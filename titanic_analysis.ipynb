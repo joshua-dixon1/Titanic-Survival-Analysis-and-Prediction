{
 "cells": [
  {
   "cell_type": "code",
   "execution_count": 2,
   "id": "8d66fa9a",
   "metadata": {
    "scrolled": true
   },
   "outputs": [],
   "source": [
    "# Import Dependencies\n",
    "%matplotlib inline\n",
    "\n",
    "# Start Python Imports\n",
    "import math, time, random, datetime, os\n",
    "\n",
    "# Visualisation \n",
    "import matplotlib\n",
    "import matplotlib.pyplot as plt\n",
    "import missingno as msno\n",
    "import seaborn as sns\n",
    "plt.style.use('seaborn-v0_8-whitegrid')\n",
    "\n",
    "# Machine learning\n",
    "import catboost\n",
    "import sklearn\n",
    "from sklearn.model_selection import train_test_split\n",
    "from sklearn import model_selection, tree, preprocessing, metrics, linear_model\n",
    "from sklearn.svm import LinearSVC\n",
    "from sklearn.ensemble import GradientBoostingClassifier\n",
    "from sklearn.neighbors import KNeighborsClassifier\n",
    "from sklearn.naive_bayes import GaussianNB\n",
    "from sklearn.linear_model import LinearRegression, LogisticRegression, SGDClassifier\n",
    "from sklearn.tree import DecisionTreeClassifier\n",
    "from catboost import CatBoostClassifier, Pool, cv\n",
    "\n",
    "# Data Manipulation\n",
    "import pandas as pd # processing\n",
    "import numpy as np # linear algebra\n",
    "\n",
    "# Apply the custom formatting to your DataFrame"
   ]
  },
  {
   "cell_type": "code",
   "execution_count": 3,
   "id": "b863afe3",
   "metadata": {},
   "outputs": [
    {
     "name": "stdout",
     "output_type": "stream",
     "text": [
      "Pandas version: 2.0.3\n",
      "NumPy version: 1.24.3\n",
      "Matplotlib version: 3.8.2\n",
      "Seaborn version: 0.12.2\n",
      "Missingno version: 0.4.2\n",
      "Catboost version: 1.2.2\n",
      "Scikit-learn version: 1.3.0\n"
     ]
    }
   ],
   "source": [
    "# Version Control\n",
    "def print_versions():\n",
    "    \"\"\"\n",
    "    Function to print versions of libraries being used. Function used for \n",
    "    formatting only\n",
    "    \"\"\"\n",
    "    print(f\"Pandas version: {pd.__version__}\")\n",
    "    print(f\"NumPy version: {np.__version__}\")\n",
    "    print(f\"Matplotlib version: {plt.matplotlib.__version__}\")\n",
    "    print(f\"Seaborn version: {sns.__version__}\")\n",
    "    print(f\"Missingno version: {msno.__version__}\")\n",
    "    print(f\"Catboost version: {catboost.__version__}\")\n",
    "    print(f\"Scikit-learn version: {sklearn.__version__}\")\n",
    "    \n",
    "print_versions()"
   ]
  },
  {
   "cell_type": "code",
   "execution_count": 4,
   "id": "16149e59",
   "metadata": {},
   "outputs": [
    {
     "name": "stdout",
     "output_type": "stream",
     "text": [
      "C:\\Users\\joshu\\Documents\\Kaggle Competitions\\Titanic - Machine Learning from Disaster\\Data\\gender_submission.csv\n",
      "C:\\Users\\joshu\\Documents\\Kaggle Competitions\\Titanic - Machine Learning from Disaster\\Data\\test.csv\n",
      "C:\\Users\\joshu\\Documents\\Kaggle Competitions\\Titanic - Machine Learning from Disaster\\Data\\train.csv\n"
     ]
    }
   ],
   "source": [
    "# This loop walks through the directory tree starting at the specified path.\n",
    "# For each directory in the tree, it lists all the files, joining the directory path and file name,\n",
    "# and then prints the full path of each file.\n",
    "for dirname, _, filenames in os.walk(r'C:\\Users\\joshu\\Documents\\Kaggle Competitions\\Titanic - Machine Learning from Disaster\\Data'):\n",
    "    for filename in filenames:\n",
    "        print(os.path.join(dirname, filename))"
   ]
  },
  {
   "cell_type": "code",
   "execution_count": 5,
   "id": "3941de30",
   "metadata": {},
   "outputs": [
    {
     "data": {
      "text/html": [
       "<div>\n",
       "<style scoped>\n",
       "    .dataframe tbody tr th:only-of-type {\n",
       "        vertical-align: middle;\n",
       "    }\n",
       "\n",
       "    .dataframe tbody tr th {\n",
       "        vertical-align: top;\n",
       "    }\n",
       "\n",
       "    .dataframe thead th {\n",
       "        text-align: right;\n",
       "    }\n",
       "</style>\n",
       "<table border=\"1\" class=\"dataframe\">\n",
       "  <thead>\n",
       "    <tr style=\"text-align: right;\">\n",
       "      <th></th>\n",
       "      <th>PassengerId</th>\n",
       "      <th>Survived</th>\n",
       "      <th>Pclass</th>\n",
       "      <th>Name</th>\n",
       "      <th>Sex</th>\n",
       "      <th>Age</th>\n",
       "      <th>SibSp</th>\n",
       "      <th>Parch</th>\n",
       "      <th>Ticket</th>\n",
       "      <th>Fare</th>\n",
       "      <th>Cabin</th>\n",
       "      <th>Embarked</th>\n",
       "    </tr>\n",
       "  </thead>\n",
       "  <tbody>\n",
       "    <tr>\n",
       "      <th>0</th>\n",
       "      <td>1</td>\n",
       "      <td>0</td>\n",
       "      <td>3</td>\n",
       "      <td>Braund, Mr. Owen Harris</td>\n",
       "      <td>male</td>\n",
       "      <td>22.0</td>\n",
       "      <td>1</td>\n",
       "      <td>0</td>\n",
       "      <td>A/5 21171</td>\n",
       "      <td>7.2500</td>\n",
       "      <td>NaN</td>\n",
       "      <td>S</td>\n",
       "    </tr>\n",
       "    <tr>\n",
       "      <th>1</th>\n",
       "      <td>2</td>\n",
       "      <td>1</td>\n",
       "      <td>1</td>\n",
       "      <td>Cumings, Mrs. John Bradley (Florence Briggs Th...</td>\n",
       "      <td>female</td>\n",
       "      <td>38.0</td>\n",
       "      <td>1</td>\n",
       "      <td>0</td>\n",
       "      <td>PC 17599</td>\n",
       "      <td>71.2833</td>\n",
       "      <td>C85</td>\n",
       "      <td>C</td>\n",
       "    </tr>\n",
       "    <tr>\n",
       "      <th>2</th>\n",
       "      <td>3</td>\n",
       "      <td>1</td>\n",
       "      <td>3</td>\n",
       "      <td>Heikkinen, Miss. Laina</td>\n",
       "      <td>female</td>\n",
       "      <td>26.0</td>\n",
       "      <td>0</td>\n",
       "      <td>0</td>\n",
       "      <td>STON/O2. 3101282</td>\n",
       "      <td>7.9250</td>\n",
       "      <td>NaN</td>\n",
       "      <td>S</td>\n",
       "    </tr>\n",
       "    <tr>\n",
       "      <th>3</th>\n",
       "      <td>4</td>\n",
       "      <td>1</td>\n",
       "      <td>1</td>\n",
       "      <td>Futrelle, Mrs. Jacques Heath (Lily May Peel)</td>\n",
       "      <td>female</td>\n",
       "      <td>35.0</td>\n",
       "      <td>1</td>\n",
       "      <td>0</td>\n",
       "      <td>113803</td>\n",
       "      <td>53.1000</td>\n",
       "      <td>C123</td>\n",
       "      <td>S</td>\n",
       "    </tr>\n",
       "    <tr>\n",
       "      <th>4</th>\n",
       "      <td>5</td>\n",
       "      <td>0</td>\n",
       "      <td>3</td>\n",
       "      <td>Allen, Mr. William Henry</td>\n",
       "      <td>male</td>\n",
       "      <td>35.0</td>\n",
       "      <td>0</td>\n",
       "      <td>0</td>\n",
       "      <td>373450</td>\n",
       "      <td>8.0500</td>\n",
       "      <td>NaN</td>\n",
       "      <td>S</td>\n",
       "    </tr>\n",
       "  </tbody>\n",
       "</table>\n",
       "</div>"
      ],
      "text/plain": [
       "   PassengerId  Survived  Pclass  \\\n",
       "0            1         0       3   \n",
       "1            2         1       1   \n",
       "2            3         1       3   \n",
       "3            4         1       1   \n",
       "4            5         0       3   \n",
       "\n",
       "                                                Name     Sex   Age  SibSp  \\\n",
       "0                            Braund, Mr. Owen Harris    male  22.0      1   \n",
       "1  Cumings, Mrs. John Bradley (Florence Briggs Th...  female  38.0      1   \n",
       "2                             Heikkinen, Miss. Laina  female  26.0      0   \n",
       "3       Futrelle, Mrs. Jacques Heath (Lily May Peel)  female  35.0      1   \n",
       "4                           Allen, Mr. William Henry    male  35.0      0   \n",
       "\n",
       "   Parch            Ticket     Fare Cabin Embarked  \n",
       "0      0         A/5 21171   7.2500   NaN        S  \n",
       "1      0          PC 17599  71.2833   C85        C  \n",
       "2      0  STON/O2. 3101282   7.9250   NaN        S  \n",
       "3      0            113803  53.1000  C123        S  \n",
       "4      0            373450   8.0500   NaN        S  "
      ]
     },
     "execution_count": 5,
     "metadata": {},
     "output_type": "execute_result"
    }
   ],
   "source": [
    "# Load the train data\n",
    "train_data = pd.read_csv(r\"C:\\Users\\joshu\\Documents\\Kaggle Competitions\\Titanic - Machine Learning from Disaster\\Data\\train.csv\")\n",
    "train_data.head()"
   ]
  },
  {
   "cell_type": "code",
   "execution_count": 6,
   "id": "07366edc",
   "metadata": {},
   "outputs": [
    {
     "name": "stdout",
     "output_type": "stream",
     "text": [
      "The training data has 891 passengers\n"
     ]
    }
   ],
   "source": [
    "number_of_train_passengers = len(train_data)\n",
    "print(f\"The training data has {number_of_train_passengers} passengers\")"
   ]
  },
  {
   "cell_type": "code",
   "execution_count": 7,
   "id": "9f4996cd",
   "metadata": {},
   "outputs": [
    {
     "data": {
      "text/html": [
       "<div>\n",
       "<style scoped>\n",
       "    .dataframe tbody tr th:only-of-type {\n",
       "        vertical-align: middle;\n",
       "    }\n",
       "\n",
       "    .dataframe tbody tr th {\n",
       "        vertical-align: top;\n",
       "    }\n",
       "\n",
       "    .dataframe thead th {\n",
       "        text-align: right;\n",
       "    }\n",
       "</style>\n",
       "<table border=\"1\" class=\"dataframe\">\n",
       "  <thead>\n",
       "    <tr style=\"text-align: right;\">\n",
       "      <th></th>\n",
       "      <th>PassengerId</th>\n",
       "      <th>Pclass</th>\n",
       "      <th>Name</th>\n",
       "      <th>Sex</th>\n",
       "      <th>Age</th>\n",
       "      <th>SibSp</th>\n",
       "      <th>Parch</th>\n",
       "      <th>Ticket</th>\n",
       "      <th>Fare</th>\n",
       "      <th>Cabin</th>\n",
       "      <th>Embarked</th>\n",
       "    </tr>\n",
       "  </thead>\n",
       "  <tbody>\n",
       "    <tr>\n",
       "      <th>0</th>\n",
       "      <td>892</td>\n",
       "      <td>3</td>\n",
       "      <td>Kelly, Mr. James</td>\n",
       "      <td>male</td>\n",
       "      <td>34.5</td>\n",
       "      <td>0</td>\n",
       "      <td>0</td>\n",
       "      <td>330911</td>\n",
       "      <td>7.8292</td>\n",
       "      <td>NaN</td>\n",
       "      <td>Q</td>\n",
       "    </tr>\n",
       "    <tr>\n",
       "      <th>1</th>\n",
       "      <td>893</td>\n",
       "      <td>3</td>\n",
       "      <td>Wilkes, Mrs. James (Ellen Needs)</td>\n",
       "      <td>female</td>\n",
       "      <td>47.0</td>\n",
       "      <td>1</td>\n",
       "      <td>0</td>\n",
       "      <td>363272</td>\n",
       "      <td>7.0000</td>\n",
       "      <td>NaN</td>\n",
       "      <td>S</td>\n",
       "    </tr>\n",
       "    <tr>\n",
       "      <th>2</th>\n",
       "      <td>894</td>\n",
       "      <td>2</td>\n",
       "      <td>Myles, Mr. Thomas Francis</td>\n",
       "      <td>male</td>\n",
       "      <td>62.0</td>\n",
       "      <td>0</td>\n",
       "      <td>0</td>\n",
       "      <td>240276</td>\n",
       "      <td>9.6875</td>\n",
       "      <td>NaN</td>\n",
       "      <td>Q</td>\n",
       "    </tr>\n",
       "    <tr>\n",
       "      <th>3</th>\n",
       "      <td>895</td>\n",
       "      <td>3</td>\n",
       "      <td>Wirz, Mr. Albert</td>\n",
       "      <td>male</td>\n",
       "      <td>27.0</td>\n",
       "      <td>0</td>\n",
       "      <td>0</td>\n",
       "      <td>315154</td>\n",
       "      <td>8.6625</td>\n",
       "      <td>NaN</td>\n",
       "      <td>S</td>\n",
       "    </tr>\n",
       "    <tr>\n",
       "      <th>4</th>\n",
       "      <td>896</td>\n",
       "      <td>3</td>\n",
       "      <td>Hirvonen, Mrs. Alexander (Helga E Lindqvist)</td>\n",
       "      <td>female</td>\n",
       "      <td>22.0</td>\n",
       "      <td>1</td>\n",
       "      <td>1</td>\n",
       "      <td>3101298</td>\n",
       "      <td>12.2875</td>\n",
       "      <td>NaN</td>\n",
       "      <td>S</td>\n",
       "    </tr>\n",
       "  </tbody>\n",
       "</table>\n",
       "</div>"
      ],
      "text/plain": [
       "   PassengerId  Pclass                                          Name     Sex  \\\n",
       "0          892       3                              Kelly, Mr. James    male   \n",
       "1          893       3              Wilkes, Mrs. James (Ellen Needs)  female   \n",
       "2          894       2                     Myles, Mr. Thomas Francis    male   \n",
       "3          895       3                              Wirz, Mr. Albert    male   \n",
       "4          896       3  Hirvonen, Mrs. Alexander (Helga E Lindqvist)  female   \n",
       "\n",
       "    Age  SibSp  Parch   Ticket     Fare Cabin Embarked  \n",
       "0  34.5      0      0   330911   7.8292   NaN        Q  \n",
       "1  47.0      1      0   363272   7.0000   NaN        S  \n",
       "2  62.0      0      0   240276   9.6875   NaN        Q  \n",
       "3  27.0      0      0   315154   8.6625   NaN        S  \n",
       "4  22.0      1      1  3101298  12.2875   NaN        S  "
      ]
     },
     "execution_count": 7,
     "metadata": {},
     "output_type": "execute_result"
    }
   ],
   "source": [
    "# Load the test data\n",
    "test_data = pd.read_csv(r\"C:\\Users\\joshu\\Documents\\Kaggle Competitions\\Titanic - Machine Learning from Disaster\\Data\\test.csv\")\n",
    "test_data.head()"
   ]
  },
  {
   "cell_type": "code",
   "execution_count": 8,
   "id": "48104274",
   "metadata": {},
   "outputs": [
    {
     "name": "stdout",
     "output_type": "stream",
     "text": [
      "The test data has 418 passengers\n"
     ]
    }
   ],
   "source": [
    "number_of_test_passengers = len(test_data)\n",
    "print(f\"The test data has {number_of_test_passengers} passengers\")"
   ]
  },
  {
   "cell_type": "code",
   "execution_count": 9,
   "id": "55ecaefd",
   "metadata": {},
   "outputs": [
    {
     "data": {
      "text/html": [
       "<div>\n",
       "<style scoped>\n",
       "    .dataframe tbody tr th:only-of-type {\n",
       "        vertical-align: middle;\n",
       "    }\n",
       "\n",
       "    .dataframe tbody tr th {\n",
       "        vertical-align: top;\n",
       "    }\n",
       "\n",
       "    .dataframe thead th {\n",
       "        text-align: right;\n",
       "    }\n",
       "</style>\n",
       "<table border=\"1\" class=\"dataframe\">\n",
       "  <thead>\n",
       "    <tr style=\"text-align: right;\">\n",
       "      <th></th>\n",
       "      <th>PassengerId</th>\n",
       "      <th>Survived</th>\n",
       "    </tr>\n",
       "  </thead>\n",
       "  <tbody>\n",
       "    <tr>\n",
       "      <th>0</th>\n",
       "      <td>892</td>\n",
       "      <td>0</td>\n",
       "    </tr>\n",
       "    <tr>\n",
       "      <th>1</th>\n",
       "      <td>893</td>\n",
       "      <td>1</td>\n",
       "    </tr>\n",
       "    <tr>\n",
       "      <th>2</th>\n",
       "      <td>894</td>\n",
       "      <td>0</td>\n",
       "    </tr>\n",
       "    <tr>\n",
       "      <th>3</th>\n",
       "      <td>895</td>\n",
       "      <td>0</td>\n",
       "    </tr>\n",
       "    <tr>\n",
       "      <th>4</th>\n",
       "      <td>896</td>\n",
       "      <td>1</td>\n",
       "    </tr>\n",
       "  </tbody>\n",
       "</table>\n",
       "</div>"
      ],
      "text/plain": [
       "   PassengerId  Survived\n",
       "0          892         0\n",
       "1          893         1\n",
       "2          894         0\n",
       "3          895         0\n",
       "4          896         1"
      ]
     },
     "execution_count": 9,
     "metadata": {},
     "output_type": "execute_result"
    }
   ],
   "source": [
    "# Load example submission\n",
    "gender_submission_data = pd.read_csv(r\"C:\\Users\\joshu\\Documents\\Kaggle Competitions\\Titanic - Machine Learning from Disaster\\Data\\gender_submission.csv\")\n",
    "gender_submission_data.head()"
   ]
  },
  {
   "cell_type": "markdown",
   "id": "7a49e9a5",
   "metadata": {},
   "source": [
    "## 1) Exploratory Data Analysis"
   ]
  },
  {
   "cell_type": "markdown",
   "id": "27ddfb33",
   "metadata": {},
   "source": [
    "### Data Descriptions\n",
    "\n",
    "**Survival:** 0 = No, 1 = Yes\n",
    "    \n",
    "**Pclass (ticket class):** 1 = 1st, 2 = 2nd, 3 = 3rd\n",
    "    \n",
    "**Sex:** Sex\n",
    "\n",
    "**Age:** Age in years\n",
    "\n",
    "**SibSp:** number of siblings/spouses aboard the Titanic\n",
    "\n",
    "**Parch:** number of parents/children aboard the Titanic\n",
    "\n",
    "**Ticket:** Ticket number\n",
    "\n",
    "**Fare:** Passenger fare\n",
    "\n",
    "**Cabin:** Cabin number\n",
    "\n",
    "**Embarked:** Port of Embarkation, C = Cherbourg, Q = Queenstown, S = Southampton    "
   ]
  },
  {
   "cell_type": "code",
   "execution_count": 10,
   "id": "d049b9d6",
   "metadata": {},
   "outputs": [
    {
     "data": {
      "text/html": [
       "<div>\n",
       "<style scoped>\n",
       "    .dataframe tbody tr th:only-of-type {\n",
       "        vertical-align: middle;\n",
       "    }\n",
       "\n",
       "    .dataframe tbody tr th {\n",
       "        vertical-align: top;\n",
       "    }\n",
       "\n",
       "    .dataframe thead th {\n",
       "        text-align: right;\n",
       "    }\n",
       "</style>\n",
       "<table border=\"1\" class=\"dataframe\">\n",
       "  <thead>\n",
       "    <tr style=\"text-align: right;\">\n",
       "      <th></th>\n",
       "      <th>PassengerId</th>\n",
       "      <th>Survived</th>\n",
       "      <th>Pclass</th>\n",
       "      <th>Age</th>\n",
       "      <th>SibSp</th>\n",
       "      <th>Parch</th>\n",
       "      <th>Fare</th>\n",
       "    </tr>\n",
       "  </thead>\n",
       "  <tbody>\n",
       "    <tr>\n",
       "      <th>count</th>\n",
       "      <td>891.000000</td>\n",
       "      <td>891.000000</td>\n",
       "      <td>891.000000</td>\n",
       "      <td>714.000000</td>\n",
       "      <td>891.000000</td>\n",
       "      <td>891.000000</td>\n",
       "      <td>891.000000</td>\n",
       "    </tr>\n",
       "    <tr>\n",
       "      <th>mean</th>\n",
       "      <td>446.000000</td>\n",
       "      <td>0.383838</td>\n",
       "      <td>2.308642</td>\n",
       "      <td>29.699118</td>\n",
       "      <td>0.523008</td>\n",
       "      <td>0.381594</td>\n",
       "      <td>32.204208</td>\n",
       "    </tr>\n",
       "    <tr>\n",
       "      <th>std</th>\n",
       "      <td>257.353842</td>\n",
       "      <td>0.486592</td>\n",
       "      <td>0.836071</td>\n",
       "      <td>14.526497</td>\n",
       "      <td>1.102743</td>\n",
       "      <td>0.806057</td>\n",
       "      <td>49.693429</td>\n",
       "    </tr>\n",
       "    <tr>\n",
       "      <th>min</th>\n",
       "      <td>1.000000</td>\n",
       "      <td>0.000000</td>\n",
       "      <td>1.000000</td>\n",
       "      <td>0.420000</td>\n",
       "      <td>0.000000</td>\n",
       "      <td>0.000000</td>\n",
       "      <td>0.000000</td>\n",
       "    </tr>\n",
       "    <tr>\n",
       "      <th>25%</th>\n",
       "      <td>223.500000</td>\n",
       "      <td>0.000000</td>\n",
       "      <td>2.000000</td>\n",
       "      <td>20.125000</td>\n",
       "      <td>0.000000</td>\n",
       "      <td>0.000000</td>\n",
       "      <td>7.910400</td>\n",
       "    </tr>\n",
       "    <tr>\n",
       "      <th>50%</th>\n",
       "      <td>446.000000</td>\n",
       "      <td>0.000000</td>\n",
       "      <td>3.000000</td>\n",
       "      <td>28.000000</td>\n",
       "      <td>0.000000</td>\n",
       "      <td>0.000000</td>\n",
       "      <td>14.454200</td>\n",
       "    </tr>\n",
       "    <tr>\n",
       "      <th>75%</th>\n",
       "      <td>668.500000</td>\n",
       "      <td>1.000000</td>\n",
       "      <td>3.000000</td>\n",
       "      <td>38.000000</td>\n",
       "      <td>1.000000</td>\n",
       "      <td>0.000000</td>\n",
       "      <td>31.000000</td>\n",
       "    </tr>\n",
       "    <tr>\n",
       "      <th>max</th>\n",
       "      <td>891.000000</td>\n",
       "      <td>1.000000</td>\n",
       "      <td>3.000000</td>\n",
       "      <td>80.000000</td>\n",
       "      <td>8.000000</td>\n",
       "      <td>6.000000</td>\n",
       "      <td>512.329200</td>\n",
       "    </tr>\n",
       "  </tbody>\n",
       "</table>\n",
       "</div>"
      ],
      "text/plain": [
       "       PassengerId    Survived      Pclass         Age       SibSp  \\\n",
       "count   891.000000  891.000000  891.000000  714.000000  891.000000   \n",
       "mean    446.000000    0.383838    2.308642   29.699118    0.523008   \n",
       "std     257.353842    0.486592    0.836071   14.526497    1.102743   \n",
       "min       1.000000    0.000000    1.000000    0.420000    0.000000   \n",
       "25%     223.500000    0.000000    2.000000   20.125000    0.000000   \n",
       "50%     446.000000    0.000000    3.000000   28.000000    0.000000   \n",
       "75%     668.500000    1.000000    3.000000   38.000000    1.000000   \n",
       "max     891.000000    1.000000    3.000000   80.000000    8.000000   \n",
       "\n",
       "            Parch        Fare  \n",
       "count  891.000000  891.000000  \n",
       "mean     0.381594   32.204208  \n",
       "std      0.806057   49.693429  \n",
       "min      0.000000    0.000000  \n",
       "25%      0.000000    7.910400  \n",
       "50%      0.000000   14.454200  \n",
       "75%      0.000000   31.000000  \n",
       "max      6.000000  512.329200  "
      ]
     },
     "execution_count": 10,
     "metadata": {},
     "output_type": "execute_result"
    }
   ],
   "source": [
    "# Description Stastics\n",
    "train_data.describe()"
   ]
  },
  {
   "cell_type": "markdown",
   "id": "64ab7c14",
   "metadata": {},
   "source": [
    "### Initial Thoughts on Dataset\n",
    "\n",
    "**Age:** Out of 891 passengers, only 714 have recorded 'Age' data. This discrepancy indicates that 'Age' information is missing for 177 passengers or have NaN instead of a value for age. \n",
    "\n",
    "**Cabin:** Upon looking at the first five rows,  'Cabin' appears to have several NaN values.\n",
    "\n",
    "This will be explored with the \"Missingno\" matrix to visualise the missing values:"
   ]
  },
  {
   "cell_type": "code",
   "execution_count": 11,
   "id": "38d3cd88",
   "metadata": {},
   "outputs": [
    {
     "data": {
      "text/plain": [
       "<Axes: >"
      ]
     },
     "execution_count": 11,
     "metadata": {},
     "output_type": "execute_result"
    },
    {
     "data": {
      "image/png": "[encoded data removed]",
      "text/plain": [
       "<Figure size 3000x1000 with 2 Axes>"
      ]
     },
     "metadata": {},
     "output_type": "display_data"
    }
   ],
   "source": [
    "# Plot matrix of missing values\n",
    "msno.matrix(train_data, figsize = (30, 10))"
   ]
  },
  {
   "cell_type": "markdown",
   "id": "00499f2e",
   "metadata": {},
   "source": [
    "### Thoughts on matrix\n",
    "\n",
    "**Age:** White gaps represent missing values, this should be explored further as to why these values are missing. Looking at the CSV file directly, it is noticable that several of the missing appear to Class 3 passengers (with the occasional Class 1 or 2). with the occasional. Visuals will be produced to explore this further. It is possible that Class 3 passenger information was generally poorly recorded.\n",
    "\n",
    "**Cabin:** A signficiant amount of cabin data is missing according to the matrix, it is not worth investigating this data further based on this as more data is required.\n",
    "\n",
    "**Embarked:** It has been observed that two entries for \"Embarked\" are missing.\n"
   ]
  },
  {
   "cell_type": "code",
   "execution_count": 12,
   "id": "be53f94c",
   "metadata": {},
   "outputs": [
    {
     "name": "stdout",
     "output_type": "stream",
     "text": [
      "The missing or NaN values from each column are as follows:\n"
     ]
    },
    {
     "data": {
      "text/plain": [
       "{'PassengerId': 0,\n",
       " 'Survived': 0,\n",
       " 'Pclass': 0,\n",
       " 'Name': 0,\n",
       " 'Sex': 0,\n",
       " 'Age': 177,\n",
       " 'SibSp': 0,\n",
       " 'Parch': 0,\n",
       " 'Ticket': 0,\n",
       " 'Fare': 0,\n",
       " 'Cabin': 687,\n",
       " 'Embarked': 2}"
      ]
     },
     "execution_count": 12,
     "metadata": {},
     "output_type": "execute_result"
    }
   ],
   "source": [
    "\n",
    "def find_missing_values(df, columns):\n",
    "    \"\"\"\n",
    "    Function to identify and return the number of missing (NaN) values in each specified column of a DataFrame.\n",
    "\n",
    "    :param df: DataFrame in which to find missing values.\n",
    "    :param columns: List of columns in the DataFrame to check for missing values.\n",
    "\n",
    "    :return: A dictionary with column names as keys and the count of missing values as values.\n",
    "    \"\"\"\n",
    "\n",
    "    print(\"The missing or NaN values from each column are as follows:\")\n",
    "\n",
    "    # Initialise an empty dictionary to store the count of missing values per column\n",
    "    missing_values = {}\n",
    "\n",
    "    # Iterate over each column and count the number of missing values\n",
    "    for column in columns:\n",
    "        # Count and assign the number of missing values for the current column\n",
    "        missing_values[column] = df[column].isnull().sum()\n",
    "    return missing_values\n",
    "\n",
    "missing_values_dict = find_missing_values(train_data, columns=train_data.columns)\n",
    "missing_values_dict\n"
   ]
  },
  {
   "cell_type": "markdown",
   "id": "63b004c0",
   "metadata": {},
   "source": [
    "### Create new dataframes\n",
    "Two new dataframes will be created to seperate discrete and continuous data.\n"
   ]
  },
  {
   "cell_type": "code",
   "execution_count": 13,
   "id": "7d497551",
   "metadata": {},
   "outputs": [],
   "source": [
    "df_bin = pd.DataFrame() # for discretised continuous variables\n",
    "df_con = pd.DataFrame() # for continuous variables"
   ]
  },
  {
   "cell_type": "code",
   "execution_count": 14,
   "id": "bfe91de2",
   "metadata": {},
   "outputs": [
    {
     "data": {
      "text/html": [
       "<div>\n",
       "<style scoped>\n",
       "    .dataframe tbody tr th:only-of-type {\n",
       "        vertical-align: middle;\n",
       "    }\n",
       "\n",
       "    .dataframe tbody tr th {\n",
       "        vertical-align: top;\n",
       "    }\n",
       "\n",
       "    .dataframe thead th {\n",
       "        text-align: right;\n",
       "    }\n",
       "</style>\n",
       "<table border=\"1\" class=\"dataframe\">\n",
       "  <thead>\n",
       "    <tr style=\"text-align: right;\">\n",
       "      <th></th>\n",
       "      <th>PassengerId</th>\n",
       "      <th>Survived</th>\n",
       "      <th>Pclass</th>\n",
       "      <th>Name</th>\n",
       "      <th>Sex</th>\n",
       "      <th>Age</th>\n",
       "      <th>SibSp</th>\n",
       "      <th>Parch</th>\n",
       "      <th>Ticket</th>\n",
       "      <th>Fare</th>\n",
       "      <th>Cabin</th>\n",
       "      <th>Embarked</th>\n",
       "    </tr>\n",
       "  </thead>\n",
       "  <tbody>\n",
       "    <tr>\n",
       "      <th>0</th>\n",
       "      <td>1</td>\n",
       "      <td>0</td>\n",
       "      <td>3</td>\n",
       "      <td>Braund, Mr. Owen Harris</td>\n",
       "      <td>male</td>\n",
       "      <td>22.0</td>\n",
       "      <td>1</td>\n",
       "      <td>0</td>\n",
       "      <td>A/5 21171</td>\n",
       "      <td>7.2500</td>\n",
       "      <td>NaN</td>\n",
       "      <td>S</td>\n",
       "    </tr>\n",
       "    <tr>\n",
       "      <th>1</th>\n",
       "      <td>2</td>\n",
       "      <td>1</td>\n",
       "      <td>1</td>\n",
       "      <td>Cumings, Mrs. John Bradley (Florence Briggs Th...</td>\n",
       "      <td>female</td>\n",
       "      <td>38.0</td>\n",
       "      <td>1</td>\n",
       "      <td>0</td>\n",
       "      <td>PC 17599</td>\n",
       "      <td>71.2833</td>\n",
       "      <td>C85</td>\n",
       "      <td>C</td>\n",
       "    </tr>\n",
       "    <tr>\n",
       "      <th>2</th>\n",
       "      <td>3</td>\n",
       "      <td>1</td>\n",
       "      <td>3</td>\n",
       "      <td>Heikkinen, Miss. Laina</td>\n",
       "      <td>female</td>\n",
       "      <td>26.0</td>\n",
       "      <td>0</td>\n",
       "      <td>0</td>\n",
       "      <td>STON/O2. 3101282</td>\n",
       "      <td>7.9250</td>\n",
       "      <td>NaN</td>\n",
       "      <td>S</td>\n",
       "    </tr>\n",
       "    <tr>\n",
       "      <th>3</th>\n",
       "      <td>4</td>\n",
       "      <td>1</td>\n",
       "      <td>1</td>\n",
       "      <td>Futrelle, Mrs. Jacques Heath (Lily May Peel)</td>\n",
       "      <td>female</td>\n",
       "      <td>35.0</td>\n",
       "      <td>1</td>\n",
       "      <td>0</td>\n",
       "      <td>113803</td>\n",
       "      <td>53.1000</td>\n",
       "      <td>C123</td>\n",
       "      <td>S</td>\n",
       "    </tr>\n",
       "    <tr>\n",
       "      <th>4</th>\n",
       "      <td>5</td>\n",
       "      <td>0</td>\n",
       "      <td>3</td>\n",
       "      <td>Allen, Mr. William Henry</td>\n",
       "      <td>male</td>\n",
       "      <td>35.0</td>\n",
       "      <td>0</td>\n",
       "      <td>0</td>\n",
       "      <td>373450</td>\n",
       "      <td>8.0500</td>\n",
       "      <td>NaN</td>\n",
       "      <td>S</td>\n",
       "    </tr>\n",
       "  </tbody>\n",
       "</table>\n",
       "</div>"
      ],
      "text/plain": [
       "   PassengerId  Survived  Pclass  \\\n",
       "0            1         0       3   \n",
       "1            2         1       1   \n",
       "2            3         1       3   \n",
       "3            4         1       1   \n",
       "4            5         0       3   \n",
       "\n",
       "                                                Name     Sex   Age  SibSp  \\\n",
       "0                            Braund, Mr. Owen Harris    male  22.0      1   \n",
       "1  Cumings, Mrs. John Bradley (Florence Briggs Th...  female  38.0      1   \n",
       "2                             Heikkinen, Miss. Laina  female  26.0      0   \n",
       "3       Futrelle, Mrs. Jacques Heath (Lily May Peel)  female  35.0      1   \n",
       "4                           Allen, Mr. William Henry    male  35.0      0   \n",
       "\n",
       "   Parch            Ticket     Fare Cabin Embarked  \n",
       "0      0         A/5 21171   7.2500   NaN        S  \n",
       "1      0          PC 17599  71.2833   C85        C  \n",
       "2      0  STON/O2. 3101282   7.9250   NaN        S  \n",
       "3      0            113803  53.1000  C123        S  \n",
       "4      0            373450   8.0500   NaN        S  "
      ]
     },
     "execution_count": 14,
     "metadata": {},
     "output_type": "execute_result"
    }
   ],
   "source": [
    "train_data.head()"
   ]
  },
  {
   "cell_type": "markdown",
   "id": "9494050b",
   "metadata": {},
   "source": [
    "### Target Variable: Survived\n",
    "\n",
    "Description: Whether the passenger survived or not.\n",
    "\n",
    "Key: 0 = did not survive, 1 = survived\n",
    "\n",
    "This is the variable we want our machine model to predict based off all features."
   ]
  },
  {
   "cell_type": "code",
   "execution_count": 15,
   "id": "121b48e4",
   "metadata": {},
   "outputs": [
    {
     "name": "stdout",
     "output_type": "stream",
     "text": [
      "Survived\n",
      "0    549\n",
      "1    342\n",
      "Name: count, dtype: int64\n"
     ]
    },
    {
     "data": {
      "image/png": "[encoded data removed]",
      "text/plain": [
       "<Figure size 2000x100 with 1 Axes>"
      ]
     },
     "metadata": {},
     "output_type": "display_data"
    }
   ],
   "source": [
    "# How many people survived?\n",
    "fig = plt.figure(figsize=(20,1))\n",
    "sns.countplot(y='Survived', data=train_data)\n",
    "print(train_data.Survived.value_counts())\n"
   ]
  },
  {
   "cell_type": "code",
   "execution_count": 16,
   "id": "11b5cd9f",
   "metadata": {},
   "outputs": [],
   "source": [
    "# Split the overall survival data to continuous and discretised continuous variable subset dataframes\n",
    "\n",
    "df_bin[\"Survived\"] = train_data[\"Survived\"] # binary/discretised dataframes\n",
    "df_con[\"Survived\"] = train_data[\"Survived\"] # continuous dataframes"
   ]
  },
  {
   "cell_type": "code",
   "execution_count": 17,
   "id": "7502ba9e",
   "metadata": {},
   "outputs": [
    {
     "data": {
      "text/html": [
       "<div>\n",
       "<style scoped>\n",
       "    .dataframe tbody tr th:only-of-type {\n",
       "        vertical-align: middle;\n",
       "    }\n",
       "\n",
       "    .dataframe tbody tr th {\n",
       "        vertical-align: top;\n",
       "    }\n",
       "\n",
       "    .dataframe thead th {\n",
       "        text-align: right;\n",
       "    }\n",
       "</style>\n",
       "<table border=\"1\" class=\"dataframe\">\n",
       "  <thead>\n",
       "    <tr style=\"text-align: right;\">\n",
       "      <th></th>\n",
       "      <th>Survived</th>\n",
       "    </tr>\n",
       "  </thead>\n",
       "  <tbody>\n",
       "    <tr>\n",
       "      <th>0</th>\n",
       "      <td>0</td>\n",
       "    </tr>\n",
       "    <tr>\n",
       "      <th>1</th>\n",
       "      <td>1</td>\n",
       "    </tr>\n",
       "    <tr>\n",
       "      <th>2</th>\n",
       "      <td>1</td>\n",
       "    </tr>\n",
       "    <tr>\n",
       "      <th>3</th>\n",
       "      <td>1</td>\n",
       "    </tr>\n",
       "    <tr>\n",
       "      <th>4</th>\n",
       "      <td>0</td>\n",
       "    </tr>\n",
       "  </tbody>\n",
       "</table>\n",
       "</div>"
      ],
      "text/plain": [
       "   Survived\n",
       "0         0\n",
       "1         1\n",
       "2         1\n",
       "3         1\n",
       "4         0"
      ]
     },
     "execution_count": 17,
     "metadata": {},
     "output_type": "execute_result"
    }
   ],
   "source": [
    "df_bin.head()"
   ]
  },
  {
   "cell_type": "code",
   "execution_count": 18,
   "id": "e00d61ef",
   "metadata": {},
   "outputs": [
    {
     "data": {
      "text/html": [
       "<div>\n",
       "<style scoped>\n",
       "    .dataframe tbody tr th:only-of-type {\n",
       "        vertical-align: middle;\n",
       "    }\n",
       "\n",
       "    .dataframe tbody tr th {\n",
       "        vertical-align: top;\n",
       "    }\n",
       "\n",
       "    .dataframe thead th {\n",
       "        text-align: right;\n",
       "    }\n",
       "</style>\n",
       "<table border=\"1\" class=\"dataframe\">\n",
       "  <thead>\n",
       "    <tr style=\"text-align: right;\">\n",
       "      <th></th>\n",
       "      <th>Survived</th>\n",
       "    </tr>\n",
       "  </thead>\n",
       "  <tbody>\n",
       "    <tr>\n",
       "      <th>0</th>\n",
       "      <td>0</td>\n",
       "    </tr>\n",
       "    <tr>\n",
       "      <th>1</th>\n",
       "      <td>1</td>\n",
       "    </tr>\n",
       "    <tr>\n",
       "      <th>2</th>\n",
       "      <td>1</td>\n",
       "    </tr>\n",
       "    <tr>\n",
       "      <th>3</th>\n",
       "      <td>1</td>\n",
       "    </tr>\n",
       "    <tr>\n",
       "      <th>4</th>\n",
       "      <td>0</td>\n",
       "    </tr>\n",
       "  </tbody>\n",
       "</table>\n",
       "</div>"
      ],
      "text/plain": [
       "   Survived\n",
       "0         0\n",
       "1         1\n",
       "2         1\n",
       "3         1\n",
       "4         0"
      ]
     },
     "execution_count": 18,
     "metadata": {},
     "output_type": "execute_result"
    }
   ],
   "source": [
    "df_con.head()"
   ]
  },
  {
   "cell_type": "code",
   "execution_count": 19,
   "id": "5753770c",
   "metadata": {},
   "outputs": [
    {
     "data": {
      "text/plain": [
       "PassengerId      int64\n",
       "Survived         int64\n",
       "Pclass           int64\n",
       "Name            object\n",
       "Sex             object\n",
       "Age            float64\n",
       "SibSp            int64\n",
       "Parch            int64\n",
       "Ticket          object\n",
       "Fare           float64\n",
       "Cabin           object\n",
       "Embarked        object\n",
       "dtype: object"
      ]
     },
     "execution_count": 19,
     "metadata": {},
     "output_type": "execute_result"
    }
   ],
   "source": [
    "# Different types of data in dataset\n",
    "train_data.dtypes"
   ]
  },
  {
   "cell_type": "markdown",
   "id": "52c78e5b",
   "metadata": {},
   "source": [
    "### Plotting the Barplots and Kernals for Features\n",
    "\n",
    "Barplots: Categorical data is to be plotted on a bar chart to see the proportion of each category.\n",
    "\n",
    "Kernals: Continuous data is to be plotted to understand the spread across the datasets. Any values that fall outside of the distribution may be considered for exclusion from the model."
   ]
  },
  {
   "cell_type": "markdown",
   "id": "a08caa60",
   "metadata": {},
   "source": [
    "## Feature: Pclass\n",
    "\n",
    "Description: The ticket class of the passenger\n",
    "    \n",
    "Key: 1 = 1st, 2 = 2nd, 3 = 3rd"
   ]
  },
  {
   "cell_type": "code",
   "execution_count": 20,
   "id": "1d9d9d88",
   "metadata": {},
   "outputs": [
    {
     "data": {
      "text/plain": [
       "<seaborn.axisgrid.FacetGrid at 0x1b53157ba90>"
      ]
     },
     "execution_count": 20,
     "metadata": {},
     "output_type": "execute_result"
    },
    {
     "data": {
      "image/png": "[encoded data removed]",
      "text/plain": [
       "<Figure size 500x500 with 1 Axes>"
      ]
     },
     "metadata": {},
     "output_type": "display_data"
    }
   ],
   "source": [
    "# Plot bar chart for Pclass. This confirms there are only 3 passenger classes in the dataset\n",
    "\n",
    "Pclass_bar = sns.catplot(train_data[\"Pclass\"], x = train_data[\"Pclass\"].index, kind = \"count\", color = \"#189ad3\")\n",
    "Pclass_bar.set_axis_labels(None, \"Passenger Count\")"
   ]
  },
  {
   "cell_type": "code",
   "execution_count": 106,
   "id": "59ec89a3",
   "metadata": {},
   "outputs": [
    {
     "data": {
      "text/plain": [
       "0"
      ]
     },
     "execution_count": 106,
     "metadata": {},
     "output_type": "execute_result"
    }
   ],
   "source": [
    "# Are there any missing values for passenger class?\n",
    "missing_values_dict[\"Pclass\"]"
   ]
  },
  {
   "cell_type": "code",
   "execution_count": 108,
   "id": "ea049877",
   "metadata": {},
   "outputs": [],
   "source": [
    "# Add Pclass to sub-dataframes\n",
    "df_bin['Pclass'] = train_data['Pclass']\n",
    "df_con['Pclass'] = train_data['Pclass']"
   ]
  },
  {
   "cell_type": "markdown",
   "id": "d8e59c17",
   "metadata": {},
   "source": [
    "## Feature: Name\n",
    "\n",
    "Description: The name of the passenger"
   ]
  },
  {
   "cell_type": "code",
   "execution_count": 109,
   "id": "ce097054",
   "metadata": {},
   "outputs": [
    {
     "data": {
      "text/html": [
       "<div>\n",
       "<style scoped>\n",
       "    .dataframe tbody tr th:only-of-type {\n",
       "        vertical-align: middle;\n",
       "    }\n",
       "\n",
       "    .dataframe tbody tr th {\n",
       "        vertical-align: top;\n",
       "    }\n",
       "\n",
       "    .dataframe thead th {\n",
       "        text-align: right;\n",
       "    }\n",
       "</style>\n",
       "<table border=\"1\" class=\"dataframe\">\n",
       "  <thead>\n",
       "    <tr style=\"text-align: right;\">\n",
       "      <th></th>\n",
       "      <th>PassengerId</th>\n",
       "      <th>Survived</th>\n",
       "      <th>Pclass</th>\n",
       "      <th>Name</th>\n",
       "      <th>Sex</th>\n",
       "      <th>Age</th>\n",
       "      <th>SibSp</th>\n",
       "      <th>Parch</th>\n",
       "      <th>Ticket</th>\n",
       "      <th>Fare</th>\n",
       "      <th>Cabin</th>\n",
       "      <th>Embarked</th>\n",
       "    </tr>\n",
       "  </thead>\n",
       "  <tbody>\n",
       "    <tr>\n",
       "      <th>0</th>\n",
       "      <td>1</td>\n",
       "      <td>0</td>\n",
       "      <td>3</td>\n",
       "      <td>Braund, Mr. Owen Harris</td>\n",
       "      <td>male</td>\n",
       "      <td>22.0</td>\n",
       "      <td>1</td>\n",
       "      <td>0</td>\n",
       "      <td>A/5 21171</td>\n",
       "      <td>7.2500</td>\n",
       "      <td>NaN</td>\n",
       "      <td>S</td>\n",
       "    </tr>\n",
       "    <tr>\n",
       "      <th>1</th>\n",
       "      <td>2</td>\n",
       "      <td>1</td>\n",
       "      <td>1</td>\n",
       "      <td>Cumings, Mrs. John Bradley (Florence Briggs Th...</td>\n",
       "      <td>female</td>\n",
       "      <td>38.0</td>\n",
       "      <td>1</td>\n",
       "      <td>0</td>\n",
       "      <td>PC 17599</td>\n",
       "      <td>71.2833</td>\n",
       "      <td>C85</td>\n",
       "      <td>C</td>\n",
       "    </tr>\n",
       "    <tr>\n",
       "      <th>2</th>\n",
       "      <td>3</td>\n",
       "      <td>1</td>\n",
       "      <td>3</td>\n",
       "      <td>Heikkinen, Miss. Laina</td>\n",
       "      <td>female</td>\n",
       "      <td>26.0</td>\n",
       "      <td>0</td>\n",
       "      <td>0</td>\n",
       "      <td>STON/O2. 3101282</td>\n",
       "      <td>7.9250</td>\n",
       "      <td>NaN</td>\n",
       "      <td>S</td>\n",
       "    </tr>\n",
       "    <tr>\n",
       "      <th>3</th>\n",
       "      <td>4</td>\n",
       "      <td>1</td>\n",
       "      <td>1</td>\n",
       "      <td>Futrelle, Mrs. Jacques Heath (Lily May Peel)</td>\n",
       "      <td>female</td>\n",
       "      <td>35.0</td>\n",
       "      <td>1</td>\n",
       "      <td>0</td>\n",
       "      <td>113803</td>\n",
       "      <td>53.1000</td>\n",
       "      <td>C123</td>\n",
       "      <td>S</td>\n",
       "    </tr>\n",
       "    <tr>\n",
       "      <th>4</th>\n",
       "      <td>5</td>\n",
       "      <td>0</td>\n",
       "      <td>3</td>\n",
       "      <td>Allen, Mr. William Henry</td>\n",
       "      <td>male</td>\n",
       "      <td>35.0</td>\n",
       "      <td>0</td>\n",
       "      <td>0</td>\n",
       "      <td>373450</td>\n",
       "      <td>8.0500</td>\n",
       "      <td>NaN</td>\n",
       "      <td>S</td>\n",
       "    </tr>\n",
       "  </tbody>\n",
       "</table>\n",
       "</div>"
      ],
      "text/plain": [
       "   PassengerId  Survived  Pclass  \\\n",
       "0            1         0       3   \n",
       "1            2         1       1   \n",
       "2            3         1       3   \n",
       "3            4         1       1   \n",
       "4            5         0       3   \n",
       "\n",
       "                                                Name     Sex   Age  SibSp  \\\n",
       "0                            Braund, Mr. Owen Harris    male  22.0      1   \n",
       "1  Cumings, Mrs. John Bradley (Florence Briggs Th...  female  38.0      1   \n",
       "2                             Heikkinen, Miss. Laina  female  26.0      0   \n",
       "3       Futrelle, Mrs. Jacques Heath (Lily May Peel)  female  35.0      1   \n",
       "4                           Allen, Mr. William Henry    male  35.0      0   \n",
       "\n",
       "   Parch            Ticket     Fare Cabin Embarked  \n",
       "0      0         A/5 21171   7.2500   NaN        S  \n",
       "1      0          PC 17599  71.2833   C85        C  \n",
       "2      0  STON/O2. 3101282   7.9250   NaN        S  \n",
       "3      0            113803  53.1000  C123        S  \n",
       "4      0            373450   8.0500   NaN        S  "
      ]
     },
     "execution_count": 109,
     "metadata": {},
     "output_type": "execute_result"
    }
   ],
   "source": [
    "train_data.head()"
   ]
  },
  {
   "cell_type": "code",
   "execution_count": 110,
   "id": "72b98b1f",
   "metadata": {},
   "outputs": [
    {
     "data": {
      "text/plain": [
       "Name\n",
       "Braund, Mr. Owen Harris                     1\n",
       "Boulos, Mr. Hanna                           1\n",
       "Frolicher-Stehli, Mr. Maxmillian            1\n",
       "Gilinski, Mr. Eliezer                       1\n",
       "Murdlin, Mr. Joseph                         1\n",
       "                                           ..\n",
       "Kelly, Miss. Anna Katherine \"Annie Kate\"    1\n",
       "McCoy, Mr. Bernard                          1\n",
       "Johnson, Mr. William Cahoone Jr             1\n",
       "Keane, Miss. Nora A                         1\n",
       "Dooley, Mr. Patrick                         1\n",
       "Name: count, Length: 891, dtype: int64"
      ]
     },
     "execution_count": 110,
     "metadata": {},
     "output_type": "execute_result"
    }
   ],
   "source": [
    "# How many different names of the passengers are there?\n",
    "\n",
    "train_data[\"Name\"].value_counts()"
   ]
  },
  {
   "cell_type": "code",
   "execution_count": 111,
   "id": "a8b7f4b3",
   "metadata": {},
   "outputs": [
    {
     "data": {
      "text/plain": [
       "891"
      ]
     },
     "execution_count": 111,
     "metadata": {},
     "output_type": "execute_result"
    }
   ],
   "source": [
    "# Check number of different names using another method\n",
    "\n",
    "len(train_data.Name)"
   ]
  },
  {
   "cell_type": "code",
   "execution_count": 112,
   "id": "9b993e3c",
   "metadata": {},
   "outputs": [
    {
     "data": {
      "text/plain": [
       "Name\n",
       "1    647\n",
       "0    244\n",
       "Name: count, dtype: int64"
      ]
     },
     "execution_count": 112,
     "metadata": {},
     "output_type": "execute_result"
    }
   ],
   "source": [
    "# How many different titles are there?\n",
    "\n",
    "# Search dataframe for a few observed titles\n",
    "mr = \"Mr\"\n",
    "ms = \"Ms\"\n",
    "mrs = \"Mrs\"\n",
    "dr = \"Dr\"\n",
    "master = \"Master\"\n",
    "rev = \"Rev\"\n",
    "\n",
    "# Count each title \n",
    "# for a quick check, the code was amended and re-used to see the output for each title # (as opposed to writing\n",
    "# a new code for each title)\n",
    "\n",
    "count_title = train_data[\"Name\"].apply(lambda x: 1 if mr in x else 0).value_counts()\n",
    "count_title"
   ]
  },
  {
   "cell_type": "markdown",
   "id": "9b694f44",
   "metadata": {},
   "source": [
    "### Thoughts on Name Feature Data\n",
    "\n",
    "It has been observed that there other titles for male passengers, such as \"Master, \"Reverend\" and \"Mr\". I considered exploring whether these titles had an impact on the chance of survival. However, there are so many different names so this is unlikely to be an efficient use of time for the EDA. \n",
    "\n",
    "**Conclusion:** Name Feature is to be excluded from the analysis"
   ]
  },
  {
   "cell_type": "code",
   "execution_count": 113,
   "id": "4b422ba7",
   "metadata": {},
   "outputs": [
    {
     "name": "stdout",
     "output_type": "stream",
     "text": [
      "Sex\n",
      "male      577\n",
      "female    314\n",
      "Name: count, dtype: int64\n"
     ]
    },
    {
     "data": {
      "image/png": "[encoded data removed]",
      "text/plain": [
       "<Figure size 2000x500 with 1 Axes>"
      ]
     },
     "metadata": {},
     "output_type": "display_data"
    }
   ],
   "source": [
    "# Distribution of the Sex\n",
    "fig = plt.figure(figsize=(20,5))\n",
    "sns.countplot(y='Sex', data=train_data)\n",
    "print(train_data.Sex.value_counts())"
   ]
  },
  {
   "cell_type": "code",
   "execution_count": 114,
   "id": "f01e8756",
   "metadata": {},
   "outputs": [
    {
     "data": {
      "text/plain": [
       "0"
      ]
     },
     "execution_count": 114,
     "metadata": {},
     "output_type": "execute_result"
    }
   ],
   "source": [
    "# Check for missing values\n",
    "missing_values_dict[\"Sex\"]"
   ]
  },
  {
   "cell_type": "markdown",
   "id": "5f5a5cc2",
   "metadata": {},
   "source": [
    "This variable is already binary, therefore it is going to be added directly to the subset dataframe"
   ]
  },
  {
   "cell_type": "code",
   "execution_count": 115,
   "id": "7f2f0e5e",
   "metadata": {},
   "outputs": [
    {
     "data": {
      "text/plain": [
       "0      male\n",
       "1    female\n",
       "2    female\n",
       "3    female\n",
       "4      male\n",
       "Name: Sex, dtype: object"
      ]
     },
     "execution_count": 115,
     "metadata": {},
     "output_type": "execute_result"
    }
   ],
   "source": [
    "train_data[\"Sex\"].head()"
   ]
  },
  {
   "cell_type": "code",
   "execution_count": 116,
   "id": "adc001d2",
   "metadata": {},
   "outputs": [
    {
     "name": "stdout",
     "output_type": "stream",
     "text": [
      "   Survived  Sex  SibSP  Parch               Fare Embarked  Pclass\n",
      "0         0    0      1      0  (-0.512, 102.466]        S       3\n",
      "1         1    1      1      0  (-0.512, 102.466]        C       1\n",
      "2         1    1      0      0  (-0.512, 102.466]        S       3\n",
      "3         1    1      1      0  (-0.512, 102.466]        S       1\n",
      "4         0    0      0      0  (-0.512, 102.466]        S       3\n",
      "   Survived     Sex  SibSP  Parch     Fare Embarked  Pclass\n",
      "0         0    male      1      0   7.2500        S       3\n",
      "1         1  female      1      0  71.2833        C       1\n",
      "2         1  female      0      0   7.9250        S       3\n",
      "3         1  female      1      0  53.1000        S       1\n",
      "4         0    male      0      0   8.0500        S       3\n"
     ]
    }
   ],
   "source": [
    "# add Sex to the subset dataframes\n",
    "# for the discretised dataframe, male and female have been split into binary values of 0 and 1 for simplicit\n",
    "\n",
    "df_bin[\"Sex\"] = train_data[\"Sex\"].map({\"male\" : 0, \"female\" : 1}) # male is 0, female is 1\n",
    "print(df_bin.head()) # Visualise the new column in the binary dataframe;\n",
    "\n",
    "df_con[\"Sex\"] = train_data[\"Sex\"]\n",
    "print(df_con.head()) # Visualise the new column in the continuous dataframe\n"
   ]
  },
  {
   "cell_type": "code",
   "execution_count": 117,
   "id": "96cc32eb",
   "metadata": {},
   "outputs": [
    {
     "data": {
      "text/plain": [
       "<matplotlib.legend.Legend at 0x1b534544fd0>"
      ]
     },
     "execution_count": 117,
     "metadata": {},
     "output_type": "execute_result"
    },
    {
     "data": {
      "image/png": "[encoded data removed]",
      "text/plain": [
       "<Figure size 2000x500 with 1 Axes>"
      ]
     },
     "metadata": {},
     "output_type": "display_data"
    }
   ],
   "source": [
    "fig = plt.figure(figsize=(20, 5))\n",
    "\n",
    "# Histogram and KDE for Survived = 1\n",
    "sns.histplot(df_con.loc[df_con[\"Survived\"] == 1, \"Sex\"], label=\"Survived\")\n",
    "\n",
    "# Histogram and KDE for Survived = 0\n",
    "sns.histplot(df_con.loc[df_con[\"Survived\"] == 0, \"Sex\"], label = \"Did not survive\")\n",
    "\n",
    "# Adding the legend\n",
    "plt.legend(title=\"Legend\")\n"
   ]
  },
  {
   "cell_type": "code",
   "execution_count": 118,
   "id": "98f567b2",
   "metadata": {},
   "outputs": [
    {
     "name": "stdout",
     "output_type": "stream",
     "text": [
      "Male survival statistics:\n",
      "Survived\n",
      "0    468\n",
      "1    109\n",
      "Name: count, dtype: int64\n",
      "Percentage of men who survived: 18.89%\n"
     ]
    },
    {
     "data": {
      "image/png": "[encoded data removed]",
      "text/plain": [
       "<Figure size 2000x100 with 1 Axes>"
      ]
     },
     "metadata": {},
     "output_type": "display_data"
    }
   ],
   "source": [
    "# How many men survived?\n",
    "fig = plt.figure(figsize=(20,1))\n",
    "sns.countplot(y=train_data.loc[train_data.Sex == \"male\", \"Survived\"], data=train_data)\n",
    "print(\"Male survival statistics:\")\n",
    "men = train_data.loc[train_data.Sex == \"male\",\"Survived\"]\n",
    "print(men.value_counts())\n",
    "rate_men = sum(men)/len(men)\n",
    "print(f\"Percentage of men who survived: {100*rate_men:.2f}%\")"
   ]
  },
  {
   "cell_type": "code",
   "execution_count": 119,
   "id": "2b416fea",
   "metadata": {},
   "outputs": [
    {
     "name": "stdout",
     "output_type": "stream",
     "text": [
      "Female survival statistics:\n",
      "Survived\n",
      "1    233\n",
      "0     81\n",
      "Name: count, dtype: int64\n",
      "Percentage of women who survived: 74.20%\n"
     ]
    },
    {
     "data": {
      "image/png": "[encoded data removed]",
      "text/plain": [
       "<Figure size 2000x100 with 1 Axes>"
      ]
     },
     "metadata": {},
     "output_type": "display_data"
    }
   ],
   "source": [
    "# How many women survived?\n",
    "fig = plt.figure(figsize=(20,1))\n",
    "sns.countplot(y=train_data.loc[train_data.Sex == \"female\", \"Survived\"], data=train_data)\n",
    "print(\"Female survival statistics:\")\n",
    "women = train_data.loc[train_data.Sex == \"female\",\"Survived\"]\n",
    "print(women.value_counts())\n",
    "rate_women = sum(women)/len(women)\n",
    "print(f\"Percentage of women who survived: {100*rate_women:.2f}%\")"
   ]
  },
  {
   "cell_type": "markdown",
   "id": "3c130c2d",
   "metadata": {},
   "source": [
    "### Analysis of Passenger Survival by Gender\n",
    "The training dataset reveals that the overall number of survivors was less than the number of those who did not survive. Notably, the data indicates a higher survival count among females compared to males."
   ]
  },
  {
   "cell_type": "markdown",
   "id": "de5b7ce3",
   "metadata": {},
   "source": [
    "## Feature: Age\n",
    "**Description**: The age of the passenger."
   ]
  },
  {
   "cell_type": "code",
   "execution_count": 120,
   "id": "24b35906",
   "metadata": {},
   "outputs": [
    {
     "data": {
      "text/plain": [
       "177"
      ]
     },
     "execution_count": 120,
     "metadata": {},
     "output_type": "execute_result"
    }
   ],
   "source": [
    "# Are there any missing values for Age?\n",
    "\n",
    "missing_values_dict[\"Age\"]\n"
   ]
  },
  {
   "cell_type": "markdown",
   "id": "4b210053",
   "metadata": {},
   "source": [
    "### Thoughts on missing values\n",
    "\n",
    "Out of 891 rows, 177 values of Age are missing. That is approximately 20% of the dataset.\n",
    "\n",
    "My intitial thoughts on proposed solutions:\n",
    "\n",
    "#### 1. Replacing with the Average Age (Mean Imputation)\n",
    "**Pros:** \n",
    "- Simple and fast.\n",
    "- Preserves the size of the dataset.\n",
    "- Works well if the missing data is random and the distribution of Age is not skewed.\n",
    "\n",
    "**Cons:** \n",
    "- Can introduce bias, especially if the missing data is not random (i.e., if there's a reason certain ages are more likely to be missing).\n",
    "- Reduces the variance of the 'Age' data, potentially affecting model performance.\n",
    "- May not be suitable if the age distribution is skewed.\n",
    "\n",
    "#### 3. Median Imputation\n",
    "**Pros:** \n",
    "- Robust to outliers and skewed distributions.\n",
    "- Preserves the size of the dataset\n",
    "\n",
    "**Cons:** \n",
    "- Can reduce the variability of the data.\n",
    "- May not be representative if the data is not symmetrically distributed.\n",
    "\n",
    "#### 4. Mode Imputation\n",
    "**Pros:**\n",
    "- Useful for categorical and numerical data.\n",
    "- Preserves the size of the dataset\n",
    "\n",
    "**Cons:**\n",
    "- Can distort the distribution if the mode is not representative.\n",
    "- May not be suitable for continuous numerical data like age.\n",
    "\n",
    "#### 5. Model-Based Imputation\n",
    "**Pros:**\n",
    "- Utilises relationships with other features for educated guesses.\n",
    "- Can provide more accurate imputations than simple methods.\n",
    "\n",
    "**Cons:**\n",
    "- More complex and time-consuming.\n",
    "- Risk of introducing bias if the model overfits the data.\n",
    "\n",
    "#### 6. Multiple Imputation\n",
    "**Pros:**\n",
    "- Provides robust estimates by combining results from several imputations.\n",
    "- Reflects the uncertainty around the true value of missing data.\n",
    "\n",
    "**Cons:**\n",
    "- Time, computationally, and statistically intensive.\n",
    "\n",
    "#### 7. Dropping Rows with Missing Values\n",
    "**Pros:**\n",
    "- Simple and ensures only complete data is used in analysis/modeling.\n",
    "- Good option if the missing data constitutes a small portion of the dataset.\n",
    "\n",
    "**Cons:**\n",
    "- Reduces the size of the dataset, this may be a problem as 20% of the data is not insignificant.\n",
    "- Can introduce bias if the missingness is related to the data itself (not at random).\n",
    "- Potentially loses valuable information in other columns.\n",
    "\n",
    "### Conclusion\n",
    "- Since 20% is a siginficant portion of the dataset, it will better to explore imputation methods \n",
    "  as opposed to removing missing rows outright.\n",
    "- Out of the possible imputation methods, mean and median will be a good starting point. I will \n",
    "  consider starting with these methods and potentially explore more complex imputation methods as my\n",
    "  analysis progresses."
   ]
  },
  {
   "cell_type": "code",
   "execution_count": 121,
   "id": "95c0d0ed",
   "metadata": {},
   "outputs": [],
   "source": [
    "# Once the Age values have been fixed up, we can add them to our sub dataframes.\n",
    "# df_bin['Age'] = pd.cut(train['Age'], 10) # bucketed/binned into different categories\n",
    "# df_con['Age'] = train['Age'] # non-bucketed"
   ]
  },
  {
   "cell_type": "code",
   "execution_count": 122,
   "id": "3249479e",
   "metadata": {},
   "outputs": [],
   "source": [
    "# I decided to create function upon as producing visualisations for each feature became repetitive\n",
    "# Function tcreate count and distribution visualisations\n",
    "# Revisit this\n",
    "\n",
    "def plot_count_dist(data, bin_df, label_column, target_column, figsize=(20, 5), use_bin_df=False):\n",
    "    \"\"\"\n",
    "    Function to plot counts and distributions of a label variable and \n",
    "    target variable side by side.\n",
    "    Parameters Descriptions:\n",
    "    ::data:: = target dataframe\n",
    "    ::bin_df:: = binned dataframe for countplot\n",
    "    ::label_column:: = binary labelled column\n",
    "    ::target_column:: = column you want to view counts and distributions\n",
    "    ::figsize:: = size of figure (width, height)\n",
    "    ::use_bin_df:: = whether or not to use the bin_df, default False\n",
    "    \"\"\"\n",
    "    fig = plt.figure(figsize=figsize)\n",
    "\n",
    "    # Count Plot\n",
    "    plt.subplot(1, 2, 1)\n",
    "    if use_bin_df:\n",
    "        sns.countplot(y=target_column, data=bin_df)\n",
    "    else:\n",
    "        sns.countplot(y=target_column, data=data)\n",
    "\n",
    "    # Distribution Plot\n",
    "    plt.subplot(1, 2, 2)\n",
    "    sns.histplot(data=data[data[label_column] == 1], x=target_column,\n",
    "                 kde=True, color=\"blue\", label=\"Survived\", stat=\"density\",\n",
    "                 element=\"step\", kde_kws=dict(cut=3))\n",
    "    sns.histplot(data=data[data[label_column] == 0], x=target_column,\n",
    "                 kde=True, color=\"red\", label=\"Did not survive\", stat=\"density\",\n",
    "                 element=\"step\", kde_kws=dict(cut=3))\n",
    "\n",
    "    plt.legend(title=label_column)\n",
    "\n",
    "    plt.show()\n"
   ]
  },
  {
   "cell_type": "markdown",
   "id": "27e4bffa",
   "metadata": {},
   "source": [
    "## Feature: SibSp\n",
    "**Description**: The number of siblings and/or spouses the passenger had on the Titanic."
   ]
  },
  {
   "cell_type": "code",
   "execution_count": 123,
   "id": "38bc0c09",
   "metadata": {},
   "outputs": [
    {
     "data": {
      "text/plain": [
       "0"
      ]
     },
     "execution_count": 123,
     "metadata": {},
     "output_type": "execute_result"
    }
   ],
   "source": [
    "# Are there any missing values for SibSp?\n",
    "\n",
    "missing_values_dict[\"SibSp\"]"
   ]
  },
  {
   "cell_type": "code",
   "execution_count": 124,
   "id": "ad9c383f",
   "metadata": {},
   "outputs": [
    {
     "data": {
      "text/plain": [
       "SibSp\n",
       "0    608\n",
       "1    209\n",
       "2     28\n",
       "4     18\n",
       "3     16\n",
       "8      7\n",
       "5      5\n",
       "Name: count, dtype: int64"
      ]
     },
     "execution_count": 124,
     "metadata": {},
     "output_type": "execute_result"
    }
   ],
   "source": [
    "# What are the possible values for this feature?\n",
    "train_data[\"SibSp\"].value_counts()"
   ]
  },
  {
   "cell_type": "code",
   "execution_count": 125,
   "id": "3957c310",
   "metadata": {},
   "outputs": [
    {
     "name": "stdout",
     "output_type": "stream",
     "text": [
      "     Survived  Sex  SibSP  Parch               Fare Embarked  Pclass\n",
      "0           0    0      1      0  (-0.512, 102.466]        S       3\n",
      "1           1    1      1      0  (-0.512, 102.466]        C       1\n",
      "2           1    1      0      0  (-0.512, 102.466]        S       3\n",
      "3           1    1      1      0  (-0.512, 102.466]        S       1\n",
      "4           0    0      0      0  (-0.512, 102.466]        S       3\n",
      "..        ...  ...    ...    ...                ...      ...     ...\n",
      "886         0    0      0      0  (-0.512, 102.466]        S       2\n",
      "887         1    1      0      0  (-0.512, 102.466]        S       1\n",
      "888         0    1      1      2  (-0.512, 102.466]        S       3\n",
      "889         1    0      0      0  (-0.512, 102.466]        C       1\n",
      "890         0    0      0      0  (-0.512, 102.466]        Q       3\n",
      "\n",
      "[889 rows x 7 columns]\n",
      "     Survived     Sex  SibSP  Parch     Fare Embarked  Pclass\n",
      "0           0    male      1      0   7.2500        S       3\n",
      "1           1  female      1      0  71.2833        C       1\n",
      "2           1  female      0      0   7.9250        S       3\n",
      "3           1  female      1      0  53.1000        S       1\n",
      "4           0    male      0      0   8.0500        S       3\n",
      "..        ...     ...    ...    ...      ...      ...     ...\n",
      "886         0    male      0      0  13.0000        S       2\n",
      "887         1  female      0      0  30.0000        S       1\n",
      "888         0  female      1      2  23.4500        S       3\n",
      "889         1    male      0      0  30.0000        C       1\n",
      "890         0    male      0      0   7.7500        Q       3\n",
      "\n",
      "[889 rows x 7 columns]\n"
     ]
    }
   ],
   "source": [
    "# Add SibSp to the subset dataframes\n",
    "df_bin[\"SibSP\"] = train_data[\"SibSp\"]\n",
    "df_con[\"SibSP\"] = train_data[\"SibSp\"]\n",
    "\n",
    "print(df_bin)\n",
    "print(df_con)"
   ]
  },
  {
   "cell_type": "code",
   "execution_count": 126,
   "id": "303d0987",
   "metadata": {},
   "outputs": [
    {
     "data": {
      "image/png": "[encoded data removed]",
      "text/plain": [
       "<Figure size 2000x500 with 2 Axes>"
      ]
     },
     "metadata": {},
     "output_type": "display_data"
    }
   ],
   "source": [
    "# Visualise the counts of SibSp and the distribution of the values\n",
    "# against Survived\n",
    "plot_count_dist(train_data, df_bin, \"Survived\", \"SibSp\", figsize = (20,5), use_bin_df = False)"
   ]
  },
  {
   "cell_type": "markdown",
   "id": "149b2503",
   "metadata": {},
   "source": [
    "### Analysis of Passenger Survival by SibSp\n",
    "\n",
    "The visualisations illuminate the relationship between the number of siblings/spouses aboard (SibSp) and passenger survival. Key insights include:\n",
    "\n",
    "- **Most passengers were alone:** A considerable number of passengers had no siblings or spouses with them, indicating that single travellers were predominant aboard the Titanic.\n",
    "- **Positive correlation for one companion:** Passengers with one sibling or spouse aboard seem to have a marginally higher chance of survival, suggesting that travelling with a single companion could have conferred some survival benefits.\n",
    "- **Data scarcity for larger families:** Very few passengers were accompanied by a large number of siblings or spouses. The lack of datapoints makes it difficult to draw definitive conclusions regarding the survival rates for these individuals.\n",
    "\n",
    "### Feature Engineering Considerations\n",
    "\n",
    "In light of the analysis, the following strategies could be contemplated for feature engineering:\n",
    "\n",
    "- **Re-categorise SibSp:** Transform the SibSp feature into categorical bins such as 'alone', 'one sibling or spouse', and 'two or more siblings or spouses'. This may help to reveal non-linear effects on survival.\n",
    "- **Create family size feature:** Investigate the interaction between 'SibSp' and 'Parch' (number of parents and children aboard) to create a composite feature reflecting the total family size aboard. This could yield a more comprehensive understanding of the impact of family dynamics on survival.\n"
   ]
  },
  {
   "cell_type": "markdown",
   "id": "990e8773",
   "metadata": {},
   "source": [
    "## Feature: Parch\n",
    "\n",
    "**Description**: This feature counts the number of parents or children each passenger had on board.\n",
    "\n",
    "Given the similarity to `SibSp`, which counts siblings or spouses aboard, `Parch` will be analysed to discern patterns of survival in relation to family size and dynamics."
   ]
  },
  {
   "cell_type": "code",
   "execution_count": 127,
   "id": "2e97be22",
   "metadata": {},
   "outputs": [
    {
     "data": {
      "text/plain": [
       "0"
      ]
     },
     "execution_count": 127,
     "metadata": {},
     "output_type": "execute_result"
    }
   ],
   "source": [
    "# How many missing values does Parch have?\n",
    "missing_values_dict[\"Parch\"]"
   ]
  },
  {
   "cell_type": "code",
   "execution_count": 128,
   "id": "b7a5a3c3",
   "metadata": {},
   "outputs": [
    {
     "data": {
      "text/plain": [
       "Parch\n",
       "0    678\n",
       "1    118\n",
       "2     80\n",
       "5      5\n",
       "3      5\n",
       "4      4\n",
       "6      1\n",
       "Name: count, dtype: int64"
      ]
     },
     "execution_count": 128,
     "metadata": {},
     "output_type": "execute_result"
    }
   ],
   "source": [
    "# What are the possible values for this feature?\n",
    "train_data[\"Parch\"].value_counts()"
   ]
  },
  {
   "cell_type": "code",
   "execution_count": 129,
   "id": "a4861542",
   "metadata": {},
   "outputs": [
    {
     "name": "stdout",
     "output_type": "stream",
     "text": [
      "     Survived  Sex  SibSP  Parch               Fare Embarked  Pclass\n",
      "0           0    0      1      0  (-0.512, 102.466]        S       3\n",
      "1           1    1      1      0  (-0.512, 102.466]        C       1\n",
      "2           1    1      0      0  (-0.512, 102.466]        S       3\n",
      "3           1    1      1      0  (-0.512, 102.466]        S       1\n",
      "4           0    0      0      0  (-0.512, 102.466]        S       3\n",
      "..        ...  ...    ...    ...                ...      ...     ...\n",
      "886         0    0      0      0  (-0.512, 102.466]        S       2\n",
      "887         1    1      0      0  (-0.512, 102.466]        S       1\n",
      "888         0    1      1      2  (-0.512, 102.466]        S       3\n",
      "889         1    0      0      0  (-0.512, 102.466]        C       1\n",
      "890         0    0      0      0  (-0.512, 102.466]        Q       3\n",
      "\n",
      "[889 rows x 7 columns]\n",
      "     Survived     Sex  SibSP  Parch     Fare Embarked  Pclass\n",
      "0           0    male      1      0   7.2500        S       3\n",
      "1           1  female      1      0  71.2833        C       1\n",
      "2           1  female      0      0   7.9250        S       3\n",
      "3           1  female      1      0  53.1000        S       1\n",
      "4           0    male      0      0   8.0500        S       3\n",
      "..        ...     ...    ...    ...      ...      ...     ...\n",
      "886         0    male      0      0  13.0000        S       2\n",
      "887         1  female      0      0  30.0000        S       1\n",
      "888         0  female      1      2  23.4500        S       3\n",
      "889         1    male      0      0  30.0000        C       1\n",
      "890         0    male      0      0   7.7500        Q       3\n",
      "\n",
      "[889 rows x 7 columns]\n"
     ]
    }
   ],
   "source": [
    "# Add Parch to the subset dataframes\n",
    "df_bin['Parch'] = train_data['Parch']\n",
    "df_con['Parch'] = train_data['Parch']\n",
    "\n",
    "print(df_bin)\n",
    "print(df_con)"
   ]
  },
  {
   "cell_type": "code",
   "execution_count": 130,
   "id": "acb33346",
   "metadata": {},
   "outputs": [
    {
     "data": {
      "image/png": "[encoded data removed]",
      "text/plain": [
       "<Figure size 2000x500 with 2 Axes>"
      ]
     },
     "metadata": {},
     "output_type": "display_data"
    }
   ],
   "source": [
    "# Visualise the counts of SibSp and the distribution of the values\n",
    "# against Survived\n",
    "plot_count_dist(train_data, df_bin, \"Survived\", \"Parch\", figsize = (20,5), use_bin_df = False)"
   ]
  },
  {
   "cell_type": "markdown",
   "id": "6f742d3e",
   "metadata": {},
   "source": [
    "### Feature: Ticket\n",
    "\n",
    "**Description**: The ticket number for the passenger,\n"
   ]
  },
  {
   "cell_type": "code",
   "execution_count": 131,
   "id": "efa0e504",
   "metadata": {},
   "outputs": [
    {
     "data": {
      "text/plain": [
       "0"
      ]
     },
     "execution_count": 131,
     "metadata": {},
     "output_type": "execute_result"
    }
   ],
   "source": [
    "# How many missing values does Parch have?\n",
    "missing_values_dict[\"Ticket\"]"
   ]
  },
  {
   "cell_type": "code",
   "execution_count": 132,
   "id": "c2aa6d36",
   "metadata": {},
   "outputs": [
    {
     "data": {
      "text/plain": [
       "Ticket\n",
       "347082      7\n",
       "CA. 2343    7\n",
       "1601        7\n",
       "3101295     6\n",
       "CA 2144     6\n",
       "           ..\n",
       "9234        1\n",
       "19988       1\n",
       "2693        1\n",
       "PC 17612    1\n",
       "370376      1\n",
       "Name: count, Length: 681, dtype: int64"
      ]
     },
     "execution_count": 132,
     "metadata": {},
     "output_type": "execute_result"
    }
   ],
   "source": [
    "# How many kinds of ticket are there?\n",
    "train_data.Ticket.value_counts()"
   ]
  },
  {
   "cell_type": "code",
   "execution_count": 133,
   "id": "eac6e04e",
   "metadata": {},
   "outputs": [
    {
     "name": "stdout",
     "output_type": "stream",
     "text": [
      "There are 681 unique ticket values.\n"
     ]
    }
   ],
   "source": [
    "# How many unique kinds of Ticket are there?\n",
    "print(\"There are {} unique ticket values.\".format(len(train_data.Ticket.unique())))"
   ]
  },
  {
   "cell_type": "markdown",
   "id": "22917419",
   "metadata": {},
   "source": [
    "There are too many unique ticket values, so this will be excluded from the subset dataframe. Alternatively, consider exploring ways of reducing the number of unique values."
   ]
  },
  {
   "cell_type": "markdown",
   "id": "c9633c70",
   "metadata": {},
   "source": [
    "### Feature: Fare\n",
    "\n",
    "Description: The ticket price."
   ]
  },
  {
   "cell_type": "code",
   "execution_count": 134,
   "id": "ff629c44",
   "metadata": {},
   "outputs": [
    {
     "data": {
      "text/plain": [
       "0"
      ]
     },
     "execution_count": 134,
     "metadata": {},
     "output_type": "execute_result"
    }
   ],
   "source": [
    "# How many missing values does Fare have?\n",
    "missing_values_dict[\"Fare\"]"
   ]
  },
  {
   "cell_type": "code",
   "execution_count": 135,
   "id": "cb1ce64b",
   "metadata": {},
   "outputs": [
    {
     "data": {
      "text/plain": [
       "dtype('float64')"
      ]
     },
     "execution_count": 135,
     "metadata": {},
     "output_type": "execute_result"
    }
   ],
   "source": [
    "# What kind of variable is Fare?\n",
    "train_data.Fare.dtype"
   ]
  },
  {
   "cell_type": "code",
   "execution_count": 136,
   "id": "caeddb98",
   "metadata": {},
   "outputs": [
    {
     "data": {
      "text/plain": [
       "Fare\n",
       "(-0.512, 102.466]     836\n",
       "(102.466, 204.932]     33\n",
       "(204.932, 307.398]     17\n",
       "(409.863, 512.329]      3\n",
       "(307.398, 409.863]      0\n",
       "Name: count, dtype: int64"
      ]
     },
     "execution_count": 136,
     "metadata": {},
     "output_type": "execute_result"
    }
   ],
   "source": [
    "# Value counts for Fare\n",
    "df_bin.Fare.value_counts()"
   ]
  },
  {
   "cell_type": "code",
   "execution_count": 137,
   "id": "a1177d35",
   "metadata": {},
   "outputs": [
    {
     "data": {
      "image/png": "[encoded data removed]",
      "text/plain": [
       "<Figure size 2000x1000 with 2 Axes>"
      ]
     },
     "metadata": {},
     "output_type": "display_data"
    }
   ],
   "source": [
    "# Visualise the Fare bin counts as well as the Fare distribution versus Survived.\n",
    "plot_count_dist(data=train_data,\n",
    "                bin_df=df_bin,\n",
    "                label_column='Survived', \n",
    "                target_column='Fare', \n",
    "                figsize=(20,10), \n",
    "                use_bin_df=True)"
   ]
  },
  {
   "cell_type": "code",
   "execution_count": 138,
   "id": "a7a4cba1",
   "metadata": {},
   "outputs": [
    {
     "name": "stdout",
     "output_type": "stream",
     "text": [
      "There are 248 unique fare values.\n"
     ]
    }
   ],
   "source": [
    "# How many unique kinds of Fare are there?\n",
    "print(\"There are {} unique fare values.\".format(len(train_data.Fare.unique())))"
   ]
  },
  {
   "cell_type": "raw",
   "id": "26e2b3e8",
   "metadata": {},
   "source": [
    "As fare is a float, it will be included in the continuous sub dataframe as it stands. It will be also divided into bins for the categorial sub sataframe."
   ]
  },
  {
   "cell_type": "code",
   "execution_count": 139,
   "id": "b7be0cfb",
   "metadata": {},
   "outputs": [
    {
     "name": "stdout",
     "output_type": "stream",
     "text": [
      "     Survived  Sex  SibSP  Parch               Fare Embarked  Pclass\n",
      "0           0    0      1      0  (-0.512, 102.466]        S       3\n",
      "1           1    1      1      0  (-0.512, 102.466]        C       1\n",
      "2           1    1      0      0  (-0.512, 102.466]        S       3\n",
      "3           1    1      1      0  (-0.512, 102.466]        S       1\n",
      "4           0    0      0      0  (-0.512, 102.466]        S       3\n",
      "..        ...  ...    ...    ...                ...      ...     ...\n",
      "886         0    0      0      0  (-0.512, 102.466]        S       2\n",
      "887         1    1      0      0  (-0.512, 102.466]        S       1\n",
      "888         0    1      1      2  (-0.512, 102.466]        S       3\n",
      "889         1    0      0      0  (-0.512, 102.466]        C       1\n",
      "890         0    0      0      0  (-0.512, 102.466]        Q       3\n",
      "\n",
      "[889 rows x 7 columns]\n"
     ]
    }
   ],
   "source": [
    "df_con['Fare'] = train_data['Fare'] \n",
    "df_bin['Fare'] = pd.cut(train_data['Fare'], bins=5) # discretised \n",
    "\n",
    "print(df_bin)"
   ]
  },
  {
   "cell_type": "code",
   "execution_count": 140,
   "id": "d00ab0c7",
   "metadata": {},
   "outputs": [
    {
     "data": {
      "image/png": "[encoded data removed]",
      "text/plain": [
       "<Figure size 2000x500 with 2 Axes>"
      ]
     },
     "metadata": {},
     "output_type": "display_data"
    }
   ],
   "source": [
    "# Visualise the counts of Fare and the distribution of the values\n",
    "# against Survived (continuous)\n",
    "plot_count_dist(train_data, df_bin, \"Survived\", \"Fare\", figsize = (20,5), use_bin_df = False)"
   ]
  },
  {
   "cell_type": "markdown",
   "id": "02ab3e84",
   "metadata": {},
   "source": [
    "The continuous sub-dataframe is unclear. Let's use the categorical sub-dataframe instead."
   ]
  },
  {
   "cell_type": "code",
   "execution_count": 141,
   "id": "54f8464c",
   "metadata": {},
   "outputs": [
    {
     "data": {
      "image/png": "[encoded data removed]",
      "text/plain": [
       "<Figure size 2000x500 with 2 Axes>"
      ]
     },
     "metadata": {},
     "output_type": "display_data"
    }
   ],
   "source": [
    "# Visualise the counts of Fare and the distribution of the values\n",
    "# against Survived (categorical)\n",
    "plot_count_dist(train_data, df_bin, \"Survived\", \"Fare\", figsize = (20,5), use_bin_df = True)"
   ]
  },
  {
   "cell_type": "markdown",
   "id": "96fff0a4",
   "metadata": {},
   "source": [
    "### Feature: Cabin\n",
    "\n",
    "Description: The passenger's cabin number."
   ]
  },
  {
   "cell_type": "code",
   "execution_count": 142,
   "id": "4ce14e00",
   "metadata": {},
   "outputs": [
    {
     "data": {
      "text/plain": [
       "687"
      ]
     },
     "execution_count": 142,
     "metadata": {},
     "output_type": "execute_result"
    }
   ],
   "source": [
    "# Are there any missing values for Cabin?\n",
    "\n",
    "missing_values_dict[\"Cabin\"]"
   ]
  },
  {
   "cell_type": "code",
   "execution_count": 143,
   "id": "436c4d12",
   "metadata": {},
   "outputs": [
    {
     "data": {
      "text/plain": [
       "Cabin\n",
       "B96 B98        4\n",
       "G6             4\n",
       "C23 C25 C27    4\n",
       "C22 C26        3\n",
       "F33            3\n",
       "              ..\n",
       "E34            1\n",
       "C7             1\n",
       "C54            1\n",
       "E36            1\n",
       "C148           1\n",
       "Name: count, Length: 147, dtype: int64"
      ]
     },
     "execution_count": 143,
     "metadata": {},
     "output_type": "execute_result"
    }
   ],
   "source": [
    "# What do the Cabin values look like?\n",
    "train_data.Cabin.value_counts()"
   ]
  },
  {
   "cell_type": "markdown",
   "id": "1d2f55c5",
   "metadata": {},
   "source": [
    "Cabin values will not be included in the sub-dataframe as there are too many missing values."
   ]
  },
  {
   "cell_type": "markdown",
   "id": "b2dfd881",
   "metadata": {},
   "source": [
    "### Feature: Embarked\n",
    "\n",
    "Description: The port where the passenger boarded the Titanic.\n",
    "    \n",
    "C = Cherbourg, Q = Queenstown, S = Southampton"
   ]
  },
  {
   "cell_type": "code",
   "execution_count": 144,
   "id": "7d039cb0",
   "metadata": {},
   "outputs": [
    {
     "data": {
      "text/plain": [
       "2"
      ]
     },
     "execution_count": 144,
     "metadata": {},
     "output_type": "execute_result"
    }
   ],
   "source": [
    "# Are there any missing values?\n",
    "missing_values_dict[\"Embarked\"]"
   ]
  },
  {
   "cell_type": "code",
   "execution_count": 145,
   "id": "f46c48dd",
   "metadata": {},
   "outputs": [
    {
     "data": {
      "text/plain": [
       "Embarked\n",
       "S    644\n",
       "C    168\n",
       "Q     77\n",
       "Name: count, dtype: int64"
      ]
     },
     "execution_count": 145,
     "metadata": {},
     "output_type": "execute_result"
    }
   ],
   "source": [
    "# What do the embarked values look like?\n",
    "train_data.Embarked.value_counts()"
   ]
  },
  {
   "cell_type": "markdown",
   "id": "d0f4fc07",
   "metadata": {},
   "source": [
    "There are 3 categorical values for embarked. There are 2 missing values. These rows will be ignored as it is unlikely the result will be significantly effected."
   ]
  },
  {
   "cell_type": "code",
   "execution_count": 146,
   "id": "aea79569",
   "metadata": {},
   "outputs": [],
   "source": [
    "# Add Embarked to sub-dataframes\n",
    "df_bin['Embarked'] = train_data['Embarked']\n",
    "df_con['Embarked'] = train_data['Embarked']"
   ]
  },
  {
   "cell_type": "code",
   "execution_count": 147,
   "id": "2ba7631d",
   "metadata": {},
   "outputs": [
    {
     "name": "stdout",
     "output_type": "stream",
     "text": [
      "889\n",
      "889\n"
     ]
    }
   ],
   "source": [
    "# Remove Embarked rows which are missing values\n",
    "print(len(df_con))\n",
    "df_con = df_con.dropna(subset=['Embarked'])\n",
    "df_bin = df_bin.dropna(subset=['Embarked'])\n",
    "print(len(df_con))"
   ]
  },
  {
   "cell_type": "markdown",
   "id": "d160bf16",
   "metadata": {},
   "source": [
    "## Feature Encoding\n",
    "We're set with our two prepared sub-dataframes. Next, we'll transform the features for compatibility with our machine learning algorithms. For this, one-hot encoding will be applied to our binned dataframe (df_bin), while the continuous dataframe (df_con) will be processed using label encoding, as provided by sklearn"
   ]
  },
  {
   "cell_type": "code",
   "execution_count": 148,
   "id": "24a69372",
   "metadata": {},
   "outputs": [
    {
     "data": {
      "text/html": [
       "<div>\n",
       "<style scoped>\n",
       "    .dataframe tbody tr th:only-of-type {\n",
       "        vertical-align: middle;\n",
       "    }\n",
       "\n",
       "    .dataframe tbody tr th {\n",
       "        vertical-align: top;\n",
       "    }\n",
       "\n",
       "    .dataframe thead th {\n",
       "        text-align: right;\n",
       "    }\n",
       "</style>\n",
       "<table border=\"1\" class=\"dataframe\">\n",
       "  <thead>\n",
       "    <tr style=\"text-align: right;\">\n",
       "      <th></th>\n",
       "      <th>Survived</th>\n",
       "      <th>Sex</th>\n",
       "      <th>SibSP</th>\n",
       "      <th>Parch</th>\n",
       "      <th>Fare</th>\n",
       "      <th>Embarked</th>\n",
       "      <th>Pclass</th>\n",
       "    </tr>\n",
       "  </thead>\n",
       "  <tbody>\n",
       "    <tr>\n",
       "      <th>0</th>\n",
       "      <td>0</td>\n",
       "      <td>0</td>\n",
       "      <td>1</td>\n",
       "      <td>0</td>\n",
       "      <td>(-0.512, 102.466]</td>\n",
       "      <td>S</td>\n",
       "      <td>3</td>\n",
       "    </tr>\n",
       "    <tr>\n",
       "      <th>1</th>\n",
       "      <td>1</td>\n",
       "      <td>1</td>\n",
       "      <td>1</td>\n",
       "      <td>0</td>\n",
       "      <td>(-0.512, 102.466]</td>\n",
       "      <td>C</td>\n",
       "      <td>1</td>\n",
       "    </tr>\n",
       "    <tr>\n",
       "      <th>2</th>\n",
       "      <td>1</td>\n",
       "      <td>1</td>\n",
       "      <td>0</td>\n",
       "      <td>0</td>\n",
       "      <td>(-0.512, 102.466]</td>\n",
       "      <td>S</td>\n",
       "      <td>3</td>\n",
       "    </tr>\n",
       "    <tr>\n",
       "      <th>3</th>\n",
       "      <td>1</td>\n",
       "      <td>1</td>\n",
       "      <td>1</td>\n",
       "      <td>0</td>\n",
       "      <td>(-0.512, 102.466]</td>\n",
       "      <td>S</td>\n",
       "      <td>1</td>\n",
       "    </tr>\n",
       "    <tr>\n",
       "      <th>4</th>\n",
       "      <td>0</td>\n",
       "      <td>0</td>\n",
       "      <td>0</td>\n",
       "      <td>0</td>\n",
       "      <td>(-0.512, 102.466]</td>\n",
       "      <td>S</td>\n",
       "      <td>3</td>\n",
       "    </tr>\n",
       "  </tbody>\n",
       "</table>\n",
       "</div>"
      ],
      "text/plain": [
       "   Survived  Sex  SibSP  Parch               Fare Embarked  Pclass\n",
       "0         0    0      1      0  (-0.512, 102.466]        S       3\n",
       "1         1    1      1      0  (-0.512, 102.466]        C       1\n",
       "2         1    1      0      0  (-0.512, 102.466]        S       3\n",
       "3         1    1      1      0  (-0.512, 102.466]        S       1\n",
       "4         0    0      0      0  (-0.512, 102.466]        S       3"
      ]
     },
     "execution_count": 148,
     "metadata": {},
     "output_type": "execute_result"
    }
   ],
   "source": [
    "df_bin.head()"
   ]
  },
  {
   "cell_type": "code",
   "execution_count": 149,
   "id": "0090fafa",
   "metadata": {},
   "outputs": [
    {
     "data": {
      "text/html": [
       "<div>\n",
       "<style scoped>\n",
       "    .dataframe tbody tr th:only-of-type {\n",
       "        vertical-align: middle;\n",
       "    }\n",
       "\n",
       "    .dataframe tbody tr th {\n",
       "        vertical-align: top;\n",
       "    }\n",
       "\n",
       "    .dataframe thead th {\n",
       "        text-align: right;\n",
       "    }\n",
       "</style>\n",
       "<table border=\"1\" class=\"dataframe\">\n",
       "  <thead>\n",
       "    <tr style=\"text-align: right;\">\n",
       "      <th></th>\n",
       "      <th>Survived</th>\n",
       "      <th>Sex_0</th>\n",
       "      <th>Sex_1</th>\n",
       "      <th>SibSP_0</th>\n",
       "      <th>SibSP_1</th>\n",
       "      <th>SibSP_2</th>\n",
       "      <th>SibSP_3</th>\n",
       "      <th>SibSP_4</th>\n",
       "      <th>SibSP_5</th>\n",
       "      <th>SibSP_8</th>\n",
       "      <th>...</th>\n",
       "      <th>Parch_5</th>\n",
       "      <th>Parch_6</th>\n",
       "      <th>Fare_(-0.512, 102.466]</th>\n",
       "      <th>Fare_(102.466, 204.932]</th>\n",
       "      <th>Fare_(204.932, 307.398]</th>\n",
       "      <th>Fare_(307.398, 409.863]</th>\n",
       "      <th>Fare_(409.863, 512.329]</th>\n",
       "      <th>Embarked_C</th>\n",
       "      <th>Embarked_Q</th>\n",
       "      <th>Embarked_S</th>\n",
       "    </tr>\n",
       "  </thead>\n",
       "  <tbody>\n",
       "    <tr>\n",
       "      <th>0</th>\n",
       "      <td>0</td>\n",
       "      <td>1</td>\n",
       "      <td>0</td>\n",
       "      <td>0</td>\n",
       "      <td>1</td>\n",
       "      <td>0</td>\n",
       "      <td>0</td>\n",
       "      <td>0</td>\n",
       "      <td>0</td>\n",
       "      <td>0</td>\n",
       "      <td>...</td>\n",
       "      <td>0</td>\n",
       "      <td>0</td>\n",
       "      <td>1</td>\n",
       "      <td>0</td>\n",
       "      <td>0</td>\n",
       "      <td>0</td>\n",
       "      <td>0</td>\n",
       "      <td>0</td>\n",
       "      <td>0</td>\n",
       "      <td>1</td>\n",
       "    </tr>\n",
       "    <tr>\n",
       "      <th>1</th>\n",
       "      <td>1</td>\n",
       "      <td>0</td>\n",
       "      <td>1</td>\n",
       "      <td>0</td>\n",
       "      <td>1</td>\n",
       "      <td>0</td>\n",
       "      <td>0</td>\n",
       "      <td>0</td>\n",
       "      <td>0</td>\n",
       "      <td>0</td>\n",
       "      <td>...</td>\n",
       "      <td>0</td>\n",
       "      <td>0</td>\n",
       "      <td>1</td>\n",
       "      <td>0</td>\n",
       "      <td>0</td>\n",
       "      <td>0</td>\n",
       "      <td>0</td>\n",
       "      <td>1</td>\n",
       "      <td>0</td>\n",
       "      <td>0</td>\n",
       "    </tr>\n",
       "    <tr>\n",
       "      <th>2</th>\n",
       "      <td>1</td>\n",
       "      <td>0</td>\n",
       "      <td>1</td>\n",
       "      <td>1</td>\n",
       "      <td>0</td>\n",
       "      <td>0</td>\n",
       "      <td>0</td>\n",
       "      <td>0</td>\n",
       "      <td>0</td>\n",
       "      <td>0</td>\n",
       "      <td>...</td>\n",
       "      <td>0</td>\n",
       "      <td>0</td>\n",
       "      <td>1</td>\n",
       "      <td>0</td>\n",
       "      <td>0</td>\n",
       "      <td>0</td>\n",
       "      <td>0</td>\n",
       "      <td>0</td>\n",
       "      <td>0</td>\n",
       "      <td>1</td>\n",
       "    </tr>\n",
       "    <tr>\n",
       "      <th>3</th>\n",
       "      <td>1</td>\n",
       "      <td>0</td>\n",
       "      <td>1</td>\n",
       "      <td>0</td>\n",
       "      <td>1</td>\n",
       "      <td>0</td>\n",
       "      <td>0</td>\n",
       "      <td>0</td>\n",
       "      <td>0</td>\n",
       "      <td>0</td>\n",
       "      <td>...</td>\n",
       "      <td>0</td>\n",
       "      <td>0</td>\n",
       "      <td>1</td>\n",
       "      <td>0</td>\n",
       "      <td>0</td>\n",
       "      <td>0</td>\n",
       "      <td>0</td>\n",
       "      <td>0</td>\n",
       "      <td>0</td>\n",
       "      <td>1</td>\n",
       "    </tr>\n",
       "    <tr>\n",
       "      <th>4</th>\n",
       "      <td>0</td>\n",
       "      <td>1</td>\n",
       "      <td>0</td>\n",
       "      <td>1</td>\n",
       "      <td>0</td>\n",
       "      <td>0</td>\n",
       "      <td>0</td>\n",
       "      <td>0</td>\n",
       "      <td>0</td>\n",
       "      <td>0</td>\n",
       "      <td>...</td>\n",
       "      <td>0</td>\n",
       "      <td>0</td>\n",
       "      <td>1</td>\n",
       "      <td>0</td>\n",
       "      <td>0</td>\n",
       "      <td>0</td>\n",
       "      <td>0</td>\n",
       "      <td>0</td>\n",
       "      <td>0</td>\n",
       "      <td>1</td>\n",
       "    </tr>\n",
       "  </tbody>\n",
       "</table>\n",
       "<p>5 rows × 25 columns</p>\n",
       "</div>"
      ],
      "text/plain": [
       "   Survived  Sex_0  Sex_1  SibSP_0  SibSP_1  SibSP_2  SibSP_3  SibSP_4  \\\n",
       "0         0      1      0        0        1        0        0        0   \n",
       "1         1      0      1        0        1        0        0        0   \n",
       "2         1      0      1        1        0        0        0        0   \n",
       "3         1      0      1        0        1        0        0        0   \n",
       "4         0      1      0        1        0        0        0        0   \n",
       "\n",
       "   SibSP_5  SibSP_8  ...  Parch_5  Parch_6  Fare_(-0.512, 102.466]  \\\n",
       "0        0        0  ...        0        0                       1   \n",
       "1        0        0  ...        0        0                       1   \n",
       "2        0        0  ...        0        0                       1   \n",
       "3        0        0  ...        0        0                       1   \n",
       "4        0        0  ...        0        0                       1   \n",
       "\n",
       "   Fare_(102.466, 204.932]  Fare_(204.932, 307.398]  Fare_(307.398, 409.863]  \\\n",
       "0                        0                        0                        0   \n",
       "1                        0                        0                        0   \n",
       "2                        0                        0                        0   \n",
       "3                        0                        0                        0   \n",
       "4                        0                        0                        0   \n",
       "\n",
       "   Fare_(409.863, 512.329]  Embarked_C  Embarked_Q  Embarked_S  \n",
       "0                        0           0           0           1  \n",
       "1                        0           1           0           0  \n",
       "2                        0           0           0           1  \n",
       "3                        0           0           0           1  \n",
       "4                        0           0           0           1  \n",
       "\n",
       "[5 rows x 25 columns]"
      ]
     },
     "execution_count": 149,
     "metadata": {},
     "output_type": "execute_result"
    }
   ],
   "source": [
    "# One-hot encode binned variables\n",
    "one_hot_cols = df_bin.columns.tolist()\n",
    "one_hot_cols.remove('Survived')\n",
    "df_bin_enc = df_bin_enc.astype(int)\n",
    "\n",
    "df_bin_enc.head()"
   ]
  },
  {
   "cell_type": "code",
   "execution_count": 150,
   "id": "5ef876f1",
   "metadata": {
    "scrolled": true
   },
   "outputs": [
    {
     "data": {
      "text/html": [
       "<div>\n",
       "<style scoped>\n",
       "    .dataframe tbody tr th:only-of-type {\n",
       "        vertical-align: middle;\n",
       "    }\n",
       "\n",
       "    .dataframe tbody tr th {\n",
       "        vertical-align: top;\n",
       "    }\n",
       "\n",
       "    .dataframe thead th {\n",
       "        text-align: right;\n",
       "    }\n",
       "</style>\n",
       "<table border=\"1\" class=\"dataframe\">\n",
       "  <thead>\n",
       "    <tr style=\"text-align: right;\">\n",
       "      <th></th>\n",
       "      <th>Survived</th>\n",
       "      <th>Sex</th>\n",
       "      <th>SibSP</th>\n",
       "      <th>Parch</th>\n",
       "      <th>Fare</th>\n",
       "      <th>Embarked</th>\n",
       "      <th>Pclass</th>\n",
       "    </tr>\n",
       "  </thead>\n",
       "  <tbody>\n",
       "    <tr>\n",
       "      <th>0</th>\n",
       "      <td>0</td>\n",
       "      <td>male</td>\n",
       "      <td>1</td>\n",
       "      <td>0</td>\n",
       "      <td>7.2500</td>\n",
       "      <td>S</td>\n",
       "      <td>3</td>\n",
       "    </tr>\n",
       "    <tr>\n",
       "      <th>1</th>\n",
       "      <td>1</td>\n",
       "      <td>female</td>\n",
       "      <td>1</td>\n",
       "      <td>0</td>\n",
       "      <td>71.2833</td>\n",
       "      <td>C</td>\n",
       "      <td>1</td>\n",
       "    </tr>\n",
       "    <tr>\n",
       "      <th>2</th>\n",
       "      <td>1</td>\n",
       "      <td>female</td>\n",
       "      <td>0</td>\n",
       "      <td>0</td>\n",
       "      <td>7.9250</td>\n",
       "      <td>S</td>\n",
       "      <td>3</td>\n",
       "    </tr>\n",
       "    <tr>\n",
       "      <th>3</th>\n",
       "      <td>1</td>\n",
       "      <td>female</td>\n",
       "      <td>1</td>\n",
       "      <td>0</td>\n",
       "      <td>53.1000</td>\n",
       "      <td>S</td>\n",
       "      <td>1</td>\n",
       "    </tr>\n",
       "    <tr>\n",
       "      <th>4</th>\n",
       "      <td>0</td>\n",
       "      <td>male</td>\n",
       "      <td>0</td>\n",
       "      <td>0</td>\n",
       "      <td>8.0500</td>\n",
       "      <td>S</td>\n",
       "      <td>3</td>\n",
       "    </tr>\n",
       "    <tr>\n",
       "      <th>5</th>\n",
       "      <td>0</td>\n",
       "      <td>male</td>\n",
       "      <td>0</td>\n",
       "      <td>0</td>\n",
       "      <td>8.4583</td>\n",
       "      <td>Q</td>\n",
       "      <td>3</td>\n",
       "    </tr>\n",
       "    <tr>\n",
       "      <th>6</th>\n",
       "      <td>0</td>\n",
       "      <td>male</td>\n",
       "      <td>0</td>\n",
       "      <td>0</td>\n",
       "      <td>51.8625</td>\n",
       "      <td>S</td>\n",
       "      <td>1</td>\n",
       "    </tr>\n",
       "    <tr>\n",
       "      <th>7</th>\n",
       "      <td>0</td>\n",
       "      <td>male</td>\n",
       "      <td>3</td>\n",
       "      <td>1</td>\n",
       "      <td>21.0750</td>\n",
       "      <td>S</td>\n",
       "      <td>3</td>\n",
       "    </tr>\n",
       "    <tr>\n",
       "      <th>8</th>\n",
       "      <td>1</td>\n",
       "      <td>female</td>\n",
       "      <td>0</td>\n",
       "      <td>2</td>\n",
       "      <td>11.1333</td>\n",
       "      <td>S</td>\n",
       "      <td>3</td>\n",
       "    </tr>\n",
       "    <tr>\n",
       "      <th>9</th>\n",
       "      <td>1</td>\n",
       "      <td>female</td>\n",
       "      <td>1</td>\n",
       "      <td>0</td>\n",
       "      <td>30.0708</td>\n",
       "      <td>C</td>\n",
       "      <td>2</td>\n",
       "    </tr>\n",
       "  </tbody>\n",
       "</table>\n",
       "</div>"
      ],
      "text/plain": [
       "   Survived     Sex  SibSP  Parch     Fare Embarked  Pclass\n",
       "0         0    male      1      0   7.2500        S       3\n",
       "1         1  female      1      0  71.2833        C       1\n",
       "2         1  female      0      0   7.9250        S       3\n",
       "3         1  female      1      0  53.1000        S       1\n",
       "4         0    male      0      0   8.0500        S       3\n",
       "5         0    male      0      0   8.4583        Q       3\n",
       "6         0    male      0      0  51.8625        S       1\n",
       "7         0    male      3      1  21.0750        S       3\n",
       "8         1  female      0      2  11.1333        S       3\n",
       "9         1  female      1      0  30.0708        C       2"
      ]
     },
     "execution_count": 150,
     "metadata": {},
     "output_type": "execute_result"
    }
   ],
   "source": [
    "df_con.head(10)"
   ]
  },
  {
   "cell_type": "code",
   "execution_count": 151,
   "id": "b45e462c",
   "metadata": {},
   "outputs": [],
   "source": [
    "# One hot encode the categorical columns\n",
    "df_embarked_one_hot = pd.get_dummies(df_con['Embarked'], \n",
    "                                     prefix='embarked')\n",
    "\n",
    "df_sex_one_hot = pd.get_dummies(df_con['Sex'], \n",
    "                                prefix='sex')\n",
    "\n",
    "df_plcass_one_hot = pd.get_dummies(df_con['Pclass'], \n",
    "                                   prefix='pclass')"
   ]
  },
  {
   "cell_type": "code",
   "execution_count": 154,
   "id": "296a27eb",
   "metadata": {},
   "outputs": [],
   "source": [
    "# Combine the one hot encoded columns with df_con_enc\n",
    "df_con_enc = pd.concat([df_con, \n",
    "                        df_embarked_one_hot, \n",
    "                        df_sex_one_hot, \n",
    "                        df_plcass_one_hot], axis=1)\n",
    "\n",
    "# Drop the original categorical columns as now they have been one hot encoded\n",
    "df_con_enc = df_con_enc.drop(['Pclass', 'Sex', 'Embarked'], axis=1).astype(int)"
   ]
  },
  {
   "cell_type": "code",
   "execution_count": 155,
   "id": "8d75ed24",
   "metadata": {},
   "outputs": [
    {
     "data": {
      "text/html": [
       "<div>\n",
       "<style scoped>\n",
       "    .dataframe tbody tr th:only-of-type {\n",
       "        vertical-align: middle;\n",
       "    }\n",
       "\n",
       "    .dataframe tbody tr th {\n",
       "        vertical-align: top;\n",
       "    }\n",
       "\n",
       "    .dataframe thead th {\n",
       "        text-align: right;\n",
       "    }\n",
       "</style>\n",
       "<table border=\"1\" class=\"dataframe\">\n",
       "  <thead>\n",
       "    <tr style=\"text-align: right;\">\n",
       "      <th></th>\n",
       "      <th>Survived</th>\n",
       "      <th>SibSP</th>\n",
       "      <th>Parch</th>\n",
       "      <th>Fare</th>\n",
       "      <th>embarked_C</th>\n",
       "      <th>embarked_Q</th>\n",
       "      <th>embarked_S</th>\n",
       "      <th>sex_female</th>\n",
       "      <th>sex_male</th>\n",
       "      <th>pclass_1</th>\n",
       "      <th>pclass_2</th>\n",
       "      <th>pclass_3</th>\n",
       "    </tr>\n",
       "  </thead>\n",
       "  <tbody>\n",
       "    <tr>\n",
       "      <th>0</th>\n",
       "      <td>0</td>\n",
       "      <td>1</td>\n",
       "      <td>0</td>\n",
       "      <td>7</td>\n",
       "      <td>0</td>\n",
       "      <td>0</td>\n",
       "      <td>1</td>\n",
       "      <td>0</td>\n",
       "      <td>1</td>\n",
       "      <td>0</td>\n",
       "      <td>0</td>\n",
       "      <td>1</td>\n",
       "    </tr>\n",
       "    <tr>\n",
       "      <th>1</th>\n",
       "      <td>1</td>\n",
       "      <td>1</td>\n",
       "      <td>0</td>\n",
       "      <td>71</td>\n",
       "      <td>1</td>\n",
       "      <td>0</td>\n",
       "      <td>0</td>\n",
       "      <td>1</td>\n",
       "      <td>0</td>\n",
       "      <td>1</td>\n",
       "      <td>0</td>\n",
       "      <td>0</td>\n",
       "    </tr>\n",
       "    <tr>\n",
       "      <th>2</th>\n",
       "      <td>1</td>\n",
       "      <td>0</td>\n",
       "      <td>0</td>\n",
       "      <td>7</td>\n",
       "      <td>0</td>\n",
       "      <td>0</td>\n",
       "      <td>1</td>\n",
       "      <td>1</td>\n",
       "      <td>0</td>\n",
       "      <td>0</td>\n",
       "      <td>0</td>\n",
       "      <td>1</td>\n",
       "    </tr>\n",
       "    <tr>\n",
       "      <th>3</th>\n",
       "      <td>1</td>\n",
       "      <td>1</td>\n",
       "      <td>0</td>\n",
       "      <td>53</td>\n",
       "      <td>0</td>\n",
       "      <td>0</td>\n",
       "      <td>1</td>\n",
       "      <td>1</td>\n",
       "      <td>0</td>\n",
       "      <td>1</td>\n",
       "      <td>0</td>\n",
       "      <td>0</td>\n",
       "    </tr>\n",
       "    <tr>\n",
       "      <th>4</th>\n",
       "      <td>0</td>\n",
       "      <td>0</td>\n",
       "      <td>0</td>\n",
       "      <td>8</td>\n",
       "      <td>0</td>\n",
       "      <td>0</td>\n",
       "      <td>1</td>\n",
       "      <td>0</td>\n",
       "      <td>1</td>\n",
       "      <td>0</td>\n",
       "      <td>0</td>\n",
       "      <td>1</td>\n",
       "    </tr>\n",
       "    <tr>\n",
       "      <th>5</th>\n",
       "      <td>0</td>\n",
       "      <td>0</td>\n",
       "      <td>0</td>\n",
       "      <td>8</td>\n",
       "      <td>0</td>\n",
       "      <td>1</td>\n",
       "      <td>0</td>\n",
       "      <td>0</td>\n",
       "      <td>1</td>\n",
       "      <td>0</td>\n",
       "      <td>0</td>\n",
       "      <td>1</td>\n",
       "    </tr>\n",
       "    <tr>\n",
       "      <th>6</th>\n",
       "      <td>0</td>\n",
       "      <td>0</td>\n",
       "      <td>0</td>\n",
       "      <td>51</td>\n",
       "      <td>0</td>\n",
       "      <td>0</td>\n",
       "      <td>1</td>\n",
       "      <td>0</td>\n",
       "      <td>1</td>\n",
       "      <td>1</td>\n",
       "      <td>0</td>\n",
       "      <td>0</td>\n",
       "    </tr>\n",
       "    <tr>\n",
       "      <th>7</th>\n",
       "      <td>0</td>\n",
       "      <td>3</td>\n",
       "      <td>1</td>\n",
       "      <td>21</td>\n",
       "      <td>0</td>\n",
       "      <td>0</td>\n",
       "      <td>1</td>\n",
       "      <td>0</td>\n",
       "      <td>1</td>\n",
       "      <td>0</td>\n",
       "      <td>0</td>\n",
       "      <td>1</td>\n",
       "    </tr>\n",
       "    <tr>\n",
       "      <th>8</th>\n",
       "      <td>1</td>\n",
       "      <td>0</td>\n",
       "      <td>2</td>\n",
       "      <td>11</td>\n",
       "      <td>0</td>\n",
       "      <td>0</td>\n",
       "      <td>1</td>\n",
       "      <td>1</td>\n",
       "      <td>0</td>\n",
       "      <td>0</td>\n",
       "      <td>0</td>\n",
       "      <td>1</td>\n",
       "    </tr>\n",
       "    <tr>\n",
       "      <th>9</th>\n",
       "      <td>1</td>\n",
       "      <td>1</td>\n",
       "      <td>0</td>\n",
       "      <td>30</td>\n",
       "      <td>1</td>\n",
       "      <td>0</td>\n",
       "      <td>0</td>\n",
       "      <td>1</td>\n",
       "      <td>0</td>\n",
       "      <td>0</td>\n",
       "      <td>1</td>\n",
       "      <td>0</td>\n",
       "    </tr>\n",
       "    <tr>\n",
       "      <th>10</th>\n",
       "      <td>1</td>\n",
       "      <td>1</td>\n",
       "      <td>1</td>\n",
       "      <td>16</td>\n",
       "      <td>0</td>\n",
       "      <td>0</td>\n",
       "      <td>1</td>\n",
       "      <td>1</td>\n",
       "      <td>0</td>\n",
       "      <td>0</td>\n",
       "      <td>0</td>\n",
       "      <td>1</td>\n",
       "    </tr>\n",
       "    <tr>\n",
       "      <th>11</th>\n",
       "      <td>1</td>\n",
       "      <td>0</td>\n",
       "      <td>0</td>\n",
       "      <td>26</td>\n",
       "      <td>0</td>\n",
       "      <td>0</td>\n",
       "      <td>1</td>\n",
       "      <td>1</td>\n",
       "      <td>0</td>\n",
       "      <td>1</td>\n",
       "      <td>0</td>\n",
       "      <td>0</td>\n",
       "    </tr>\n",
       "    <tr>\n",
       "      <th>12</th>\n",
       "      <td>0</td>\n",
       "      <td>0</td>\n",
       "      <td>0</td>\n",
       "      <td>8</td>\n",
       "      <td>0</td>\n",
       "      <td>0</td>\n",
       "      <td>1</td>\n",
       "      <td>0</td>\n",
       "      <td>1</td>\n",
       "      <td>0</td>\n",
       "      <td>0</td>\n",
       "      <td>1</td>\n",
       "    </tr>\n",
       "    <tr>\n",
       "      <th>13</th>\n",
       "      <td>0</td>\n",
       "      <td>1</td>\n",
       "      <td>5</td>\n",
       "      <td>31</td>\n",
       "      <td>0</td>\n",
       "      <td>0</td>\n",
       "      <td>1</td>\n",
       "      <td>0</td>\n",
       "      <td>1</td>\n",
       "      <td>0</td>\n",
       "      <td>0</td>\n",
       "      <td>1</td>\n",
       "    </tr>\n",
       "    <tr>\n",
       "      <th>14</th>\n",
       "      <td>0</td>\n",
       "      <td>0</td>\n",
       "      <td>0</td>\n",
       "      <td>7</td>\n",
       "      <td>0</td>\n",
       "      <td>0</td>\n",
       "      <td>1</td>\n",
       "      <td>1</td>\n",
       "      <td>0</td>\n",
       "      <td>0</td>\n",
       "      <td>0</td>\n",
       "      <td>1</td>\n",
       "    </tr>\n",
       "    <tr>\n",
       "      <th>15</th>\n",
       "      <td>1</td>\n",
       "      <td>0</td>\n",
       "      <td>0</td>\n",
       "      <td>16</td>\n",
       "      <td>0</td>\n",
       "      <td>0</td>\n",
       "      <td>1</td>\n",
       "      <td>1</td>\n",
       "      <td>0</td>\n",
       "      <td>0</td>\n",
       "      <td>1</td>\n",
       "      <td>0</td>\n",
       "    </tr>\n",
       "    <tr>\n",
       "      <th>16</th>\n",
       "      <td>0</td>\n",
       "      <td>4</td>\n",
       "      <td>1</td>\n",
       "      <td>29</td>\n",
       "      <td>0</td>\n",
       "      <td>1</td>\n",
       "      <td>0</td>\n",
       "      <td>0</td>\n",
       "      <td>1</td>\n",
       "      <td>0</td>\n",
       "      <td>0</td>\n",
       "      <td>1</td>\n",
       "    </tr>\n",
       "    <tr>\n",
       "      <th>17</th>\n",
       "      <td>1</td>\n",
       "      <td>0</td>\n",
       "      <td>0</td>\n",
       "      <td>13</td>\n",
       "      <td>0</td>\n",
       "      <td>0</td>\n",
       "      <td>1</td>\n",
       "      <td>0</td>\n",
       "      <td>1</td>\n",
       "      <td>0</td>\n",
       "      <td>1</td>\n",
       "      <td>0</td>\n",
       "    </tr>\n",
       "    <tr>\n",
       "      <th>18</th>\n",
       "      <td>0</td>\n",
       "      <td>1</td>\n",
       "      <td>0</td>\n",
       "      <td>18</td>\n",
       "      <td>0</td>\n",
       "      <td>0</td>\n",
       "      <td>1</td>\n",
       "      <td>1</td>\n",
       "      <td>0</td>\n",
       "      <td>0</td>\n",
       "      <td>0</td>\n",
       "      <td>1</td>\n",
       "    </tr>\n",
       "    <tr>\n",
       "      <th>19</th>\n",
       "      <td>1</td>\n",
       "      <td>0</td>\n",
       "      <td>0</td>\n",
       "      <td>7</td>\n",
       "      <td>1</td>\n",
       "      <td>0</td>\n",
       "      <td>0</td>\n",
       "      <td>1</td>\n",
       "      <td>0</td>\n",
       "      <td>0</td>\n",
       "      <td>0</td>\n",
       "      <td>1</td>\n",
       "    </tr>\n",
       "  </tbody>\n",
       "</table>\n",
       "</div>"
      ],
      "text/plain": [
       "    Survived  SibSP  Parch  Fare  embarked_C  embarked_Q  embarked_S  \\\n",
       "0          0      1      0     7           0           0           1   \n",
       "1          1      1      0    71           1           0           0   \n",
       "2          1      0      0     7           0           0           1   \n",
       "3          1      1      0    53           0           0           1   \n",
       "4          0      0      0     8           0           0           1   \n",
       "5          0      0      0     8           0           1           0   \n",
       "6          0      0      0    51           0           0           1   \n",
       "7          0      3      1    21           0           0           1   \n",
       "8          1      0      2    11           0           0           1   \n",
       "9          1      1      0    30           1           0           0   \n",
       "10         1      1      1    16           0           0           1   \n",
       "11         1      0      0    26           0           0           1   \n",
       "12         0      0      0     8           0           0           1   \n",
       "13         0      1      5    31           0           0           1   \n",
       "14         0      0      0     7           0           0           1   \n",
       "15         1      0      0    16           0           0           1   \n",
       "16         0      4      1    29           0           1           0   \n",
       "17         1      0      0    13           0           0           1   \n",
       "18         0      1      0    18           0           0           1   \n",
       "19         1      0      0     7           1           0           0   \n",
       "\n",
       "    sex_female  sex_male  pclass_1  pclass_2  pclass_3  \n",
       "0            0         1         0         0         1  \n",
       "1            1         0         1         0         0  \n",
       "2            1         0         0         0         1  \n",
       "3            1         0         1         0         0  \n",
       "4            0         1         0         0         1  \n",
       "5            0         1         0         0         1  \n",
       "6            0         1         1         0         0  \n",
       "7            0         1         0         0         1  \n",
       "8            1         0         0         0         1  \n",
       "9            1         0         0         1         0  \n",
       "10           1         0         0         0         1  \n",
       "11           1         0         1         0         0  \n",
       "12           0         1         0         0         1  \n",
       "13           0         1         0         0         1  \n",
       "14           1         0         0         0         1  \n",
       "15           1         0         0         1         0  \n",
       "16           0         1         0         0         1  \n",
       "17           0         1         0         1         0  \n",
       "18           1         0         0         0         1  \n",
       "19           1         0         0         0         1  "
      ]
     },
     "execution_count": 155,
     "metadata": {},
     "output_type": "execute_result"
    }
   ],
   "source": [
    "#  df_con_enc\n",
    "df_con_enc.head(20)"
   ]
  },
  {
   "cell_type": "markdown",
   "id": "c7f9bec5",
   "metadata": {},
   "source": [
    "# 2) Building Machine Learning Models (Work in Progress)"
   ]
  },
  {
   "cell_type": "markdown",
   "id": "4dcc494f",
   "metadata": {},
   "source": [
    "After transforming and numerically encoding our data, we're now ready to apply a range of machine learning algorithms to it. This will help us determine which models are most effective in yielding accurate results. This is currently draft and is being built on offline."
   ]
  },
  {
   "cell_type": "code",
   "execution_count": 71,
   "id": "bf2497db",
   "metadata": {},
   "outputs": [],
   "source": [
    "from sklearn.ensemble import RandomForestClassifier\n",
    "\n",
    "Y_train = train_data[\"Survived\"]\n",
    "\n",
    "features = [\"Pclass\", \"Sex\", \"SibSp\", \"Parch\"]\n",
    "X_train = pd.get_dummies(train_data[features])\n",
    "X_test = pd.get_dummies(test_data[features])\n",
    "\n",
    "model = RandomForestClassifier(n_estimators=100, max_depth=5, random_state=1)\n",
    "model.fit(X_train,Y_train)\n",
    "predictions = model.predict(X_test)\n",
    "\n",
    "output = pd.DataFrame({'PassengerId' : test_data.PassengerId, 'Survived' : predictions})\n",
    "output.to_csv('submission.csv', index = False)"
   ]
  },
  {
   "cell_type": "markdown",
   "id": "fe37e9e7",
   "metadata": {},
   "source": []
  },
  {
   "cell_type": "markdown",
   "id": "00376da2",
   "metadata": {},
   "source": [
    "# Superseded Items"
   ]
  },
  {
   "cell_type": "markdown",
   "id": "33f5e683",
   "metadata": {},
   "source": [
    "This section is a compliation of my inital coding attempts, which have either been improved on or refined for the main body above."
   ]
  },
  {
   "cell_type": "code",
   "execution_count": 62,
   "id": "18a2c2d3",
   "metadata": {},
   "outputs": [
    {
     "data": {
      "text/html": [
       "<div>\n",
       "<style scoped>\n",
       "    .dataframe tbody tr th:only-of-type {\n",
       "        vertical-align: middle;\n",
       "    }\n",
       "\n",
       "    .dataframe tbody tr th {\n",
       "        vertical-align: top;\n",
       "    }\n",
       "\n",
       "    .dataframe thead th {\n",
       "        text-align: right;\n",
       "    }\n",
       "</style>\n",
       "<table border=\"1\" class=\"dataframe\">\n",
       "  <thead>\n",
       "    <tr style=\"text-align: right;\">\n",
       "      <th></th>\n",
       "      <th>PassengerId</th>\n",
       "      <th>Survived</th>\n",
       "      <th>Pclass</th>\n",
       "      <th>Name</th>\n",
       "      <th>Sex</th>\n",
       "      <th>Age</th>\n",
       "      <th>SibSp</th>\n",
       "      <th>Parch</th>\n",
       "      <th>Ticket</th>\n",
       "      <th>Fare</th>\n",
       "      <th>Cabin</th>\n",
       "      <th>Embarked</th>\n",
       "    </tr>\n",
       "  </thead>\n",
       "  <tbody>\n",
       "    <tr>\n",
       "      <th>0</th>\n",
       "      <td>1</td>\n",
       "      <td>0</td>\n",
       "      <td>3</td>\n",
       "      <td>Braund, Mr. Owen Harris</td>\n",
       "      <td>male</td>\n",
       "      <td>22.0</td>\n",
       "      <td>1</td>\n",
       "      <td>0</td>\n",
       "      <td>A/5 21171</td>\n",
       "      <td>7.2500</td>\n",
       "      <td>NaN</td>\n",
       "      <td>S</td>\n",
       "    </tr>\n",
       "    <tr>\n",
       "      <th>1</th>\n",
       "      <td>2</td>\n",
       "      <td>1</td>\n",
       "      <td>1</td>\n",
       "      <td>Cumings, Mrs. John Bradley (Florence Briggs Th...</td>\n",
       "      <td>female</td>\n",
       "      <td>38.0</td>\n",
       "      <td>1</td>\n",
       "      <td>0</td>\n",
       "      <td>PC 17599</td>\n",
       "      <td>71.2833</td>\n",
       "      <td>C85</td>\n",
       "      <td>C</td>\n",
       "    </tr>\n",
       "    <tr>\n",
       "      <th>2</th>\n",
       "      <td>3</td>\n",
       "      <td>1</td>\n",
       "      <td>3</td>\n",
       "      <td>Heikkinen, Miss. Laina</td>\n",
       "      <td>female</td>\n",
       "      <td>26.0</td>\n",
       "      <td>0</td>\n",
       "      <td>0</td>\n",
       "      <td>STON/O2. 3101282</td>\n",
       "      <td>7.9250</td>\n",
       "      <td>NaN</td>\n",
       "      <td>S</td>\n",
       "    </tr>\n",
       "    <tr>\n",
       "      <th>3</th>\n",
       "      <td>4</td>\n",
       "      <td>1</td>\n",
       "      <td>1</td>\n",
       "      <td>Futrelle, Mrs. Jacques Heath (Lily May Peel)</td>\n",
       "      <td>female</td>\n",
       "      <td>35.0</td>\n",
       "      <td>1</td>\n",
       "      <td>0</td>\n",
       "      <td>113803</td>\n",
       "      <td>53.1000</td>\n",
       "      <td>C123</td>\n",
       "      <td>S</td>\n",
       "    </tr>\n",
       "    <tr>\n",
       "      <th>4</th>\n",
       "      <td>5</td>\n",
       "      <td>0</td>\n",
       "      <td>3</td>\n",
       "      <td>Allen, Mr. William Henry</td>\n",
       "      <td>male</td>\n",
       "      <td>35.0</td>\n",
       "      <td>0</td>\n",
       "      <td>0</td>\n",
       "      <td>373450</td>\n",
       "      <td>8.0500</td>\n",
       "      <td>NaN</td>\n",
       "      <td>S</td>\n",
       "    </tr>\n",
       "  </tbody>\n",
       "</table>\n",
       "</div>"
      ],
      "text/plain": [
       "   PassengerId  Survived  Pclass  \\\n",
       "0            1         0       3   \n",
       "1            2         1       1   \n",
       "2            3         1       3   \n",
       "3            4         1       1   \n",
       "4            5         0       3   \n",
       "\n",
       "                                                Name     Sex   Age  SibSp  \\\n",
       "0                            Braund, Mr. Owen Harris    male  22.0      1   \n",
       "1  Cumings, Mrs. John Bradley (Florence Briggs Th...  female  38.0      1   \n",
       "2                             Heikkinen, Miss. Laina  female  26.0      0   \n",
       "3       Futrelle, Mrs. Jacques Heath (Lily May Peel)  female  35.0      1   \n",
       "4                           Allen, Mr. William Henry    male  35.0      0   \n",
       "\n",
       "   Parch            Ticket     Fare Cabin Embarked  \n",
       "0      0         A/5 21171   7.2500   NaN        S  \n",
       "1      0          PC 17599  71.2833   C85        C  \n",
       "2      0  STON/O2. 3101282   7.9250   NaN        S  \n",
       "3      0            113803  53.1000  C123        S  \n",
       "4      0            373450   8.0500   NaN        S  "
      ]
     },
     "execution_count": 62,
     "metadata": {},
     "output_type": "execute_result"
    }
   ],
   "source": [
    "train_data.head()"
   ]
  },
  {
   "cell_type": "code",
   "execution_count": 30,
   "id": "a756b281",
   "metadata": {},
   "outputs": [
    {
     "data": {
      "text/html": [
       "<div>\n",
       "<style scoped>\n",
       "    .dataframe tbody tr th:only-of-type {\n",
       "        vertical-align: middle;\n",
       "    }\n",
       "\n",
       "    .dataframe tbody tr th {\n",
       "        vertical-align: top;\n",
       "    }\n",
       "\n",
       "    .dataframe thead th {\n",
       "        text-align: right;\n",
       "    }\n",
       "</style>\n",
       "<table border=\"1\" class=\"dataframe\">\n",
       "  <thead>\n",
       "    <tr style=\"text-align: right;\">\n",
       "      <th></th>\n",
       "      <th>PassengerId</th>\n",
       "      <th>Survived</th>\n",
       "    </tr>\n",
       "  </thead>\n",
       "  <tbody>\n",
       "    <tr>\n",
       "      <th>0</th>\n",
       "      <td>892</td>\n",
       "      <td>0</td>\n",
       "    </tr>\n",
       "    <tr>\n",
       "      <th>1</th>\n",
       "      <td>893</td>\n",
       "      <td>1</td>\n",
       "    </tr>\n",
       "    <tr>\n",
       "      <th>2</th>\n",
       "      <td>894</td>\n",
       "      <td>0</td>\n",
       "    </tr>\n",
       "    <tr>\n",
       "      <th>3</th>\n",
       "      <td>895</td>\n",
       "      <td>0</td>\n",
       "    </tr>\n",
       "    <tr>\n",
       "      <th>4</th>\n",
       "      <td>896</td>\n",
       "      <td>1</td>\n",
       "    </tr>\n",
       "  </tbody>\n",
       "</table>\n",
       "</div>"
      ],
      "text/plain": [
       "   PassengerId  Survived\n",
       "0          892         0\n",
       "1          893         1\n",
       "2          894         0\n",
       "3          895         0\n",
       "4          896         1"
      ]
     },
     "execution_count": 30,
     "metadata": {},
     "output_type": "execute_result"
    }
   ],
   "source": [
    "# Load the submission data\n",
    "submission_data = pd.read_csv(r\"C:\\Users\\joshu\\Documents\\Kaggle Competitions\\Titanic - Machine Learning from Disaster\\submission.csv\")\n",
    "submission_data.head()"
   ]
  },
  {
   "cell_type": "code",
   "execution_count": null,
   "id": "6bcc93c4",
   "metadata": {},
   "outputs": [],
   "source": []
  },
  {
   "cell_type": "code",
   "execution_count": null,
   "id": "656c4380",
   "metadata": {},
   "outputs": [],
   "source": []
  },
  {
   "cell_type": "code",
   "execution_count": 31,
   "id": "0e62ff73",
   "metadata": {},
   "outputs": [
    {
     "name": "stdout",
     "output_type": "stream",
     "text": [
      "Pclass\n",
      "1    216\n",
      "2    184\n",
      "3    491\n",
      "Name: count, dtype: int64\n"
     ]
    },
    {
     "data": {
      "image/png": "[encoded data removed]",
      "text/plain": [
       "<Figure size 640x480 with 1 Axes>"
      ]
     },
     "metadata": {},
     "output_type": "display_data"
    }
   ],
   "source": [
    "# Count the number of passengers by Pclass\n",
    "passenger_count_by_pclass_train = train_data['Pclass'].value_counts().sort_index()\n",
    "print(passenger_count_by_pclass_train)\n",
    "\n",
    "# Plotting the bar chart for passenger count by Pclass\n",
    "plt.bar(passenger_count_by_pclass_train.index.astype(str),passenger_count_by_pclass_train.values, color = \"#189ad3\")\n",
    "plt.title(\"Number of Passengers by Class\")\n",
    "plt.xlabel(\"Passenger Class\")\n",
    "plt.ylabel(\"Number of Passengers\")\n",
    "plt.ylim((0, passenger_count_by_pclass_train.values.max() + 10))\n",
    "plt.show()"
   ]
  },
  {
   "cell_type": "code",
   "execution_count": 302,
   "id": "7d6e19d7",
   "metadata": {},
   "outputs": [],
   "source": [
    "# Function to build bar chart\n",
    "def survivor_statistics(original_dataframe, result_dataframe = None, category = None, result_column = \"Survived\"):\n",
    "    \n",
    "    # Get unique categories\n",
    "    unique_categories = original_dataframe[category].unique()\n",
    "    if result_dataframe is None:\n",
    "        result_dataframe = original_dataframe\n",
    "        \n",
    "    if result_column in original_dataframe.columns:\n",
    "        merged_dataframe = original_dataframe\n",
    "        \n",
    "    else:\n",
    "        merged_dataframe = pd.merge(original_dataframe, result_dataframe, how = \"left\", on = \"PassengerId\")\n",
    "        \n",
    "    # Create a new CSV for the mertged dataframe\n",
    "    merged_dataframe.to_csv('merged_dataframe_with_results.csv', index=False)\n",
    "            \n",
    "    # If the category is numeric, we sort the unique values; otherwise, we convert to list directly\n",
    "    if pd.api.types.is_numeric_dtype(merged_dataframe[category]):\n",
    "        unique_categories.sort()\n",
    "    else:\n",
    "        unique_categories = list(unique_categories)\n",
    "   \n",
    "    # Count the number of passengers by category \n",
    "    passenger_count_by_category_train = merged_dataframe[category].value_counts().reindex(unique_categories, fill_value = 0).sort_index()\n",
    "    print(passenger_count_by_category_train)\n",
    "    \n",
    "    # Count number of survivors in category \n",
    "    survivor_count_by_category_train = merged_dataframe[merged_dataframe[\"Survived\"] == 1][category].value_counts().reindex(unique_categories, fill_value = 0).sort_index()\n",
    "    print(survivor_count_by_category_train)\n",
    "    \n",
    "    # Count number of fatalities in category \n",
    "    fatality_count_by_category_train = merged_dataframe[merged_dataframe[\"Survived\"] == 0][category].value_counts().reindex(unique_categories, fill_value = 0).sort_index()\n",
    "    print(fatality_count_by_category_train)\n",
    "    \n",
    "    # Plot bar charts\n",
    "    plt.bar(passenger_count_by_category_train.index, survivor_count_by_category_train.values, label = \"Survivors\")\n",
    "    plt.bar(passenger_count_by_category_train.index, fatality_count_by_category_train, bottom = survivor_count_by_category_train.values, label = \"Fatalities\")\n",
    "    plt.title(f\"Proportion of Survivors vs Fatalities by {category}\")\n",
    "    plt.xlabel(f\"{category}\")\n",
    "    plt.ylabel(f\"Number of Passengers\")\n",
    "    plt.xticks(passenger_count_by_category_train.index)\n",
    "    plt.ylim(0, 500)\n",
    "    plt.legend()"
   ]
  },
  {
   "cell_type": "code",
   "execution_count": 303,
   "id": "fc5d0944",
   "metadata": {},
   "outputs": [
    {
     "name": "stdout",
     "output_type": "stream",
     "text": [
      "Pclass\n",
      "1    216\n",
      "2    184\n",
      "3    491\n",
      "Name: count, dtype: int64\n",
      "Pclass\n",
      "1    136\n",
      "2     87\n",
      "3    119\n",
      "Name: count, dtype: int64\n",
      "Pclass\n",
      "1     80\n",
      "2     97\n",
      "3    372\n",
      "Name: count, dtype: int64\n"
     ]
    },
    {
     "data": {
      "image/png": "[encoded data removed]",
      "text/plain": [
       "<Figure size 640x480 with 1 Axes>"
      ]
     },
     "metadata": {},
     "output_type": "display_data"
    }
   ],
   "source": [
    "# Survivor statistic by Passenger Class (Pclass) - Training Data\n",
    "survivor_statistics(original_dataframe = train_data, result_dataframe = None, category = \"Pclass\", result_column = \"Survived\")"
   ]
  },
  {
   "cell_type": "code",
   "execution_count": 304,
   "id": "8f912764",
   "metadata": {},
   "outputs": [
    {
     "name": "stdout",
     "output_type": "stream",
     "text": [
      "Pclass\n",
      "1    107\n",
      "2     93\n",
      "3    218\n",
      "Name: count, dtype: int64\n",
      "Pclass\n",
      "1    53\n",
      "2    31\n",
      "3    64\n",
      "Name: count, dtype: int64\n",
      "Pclass\n",
      "1     54\n",
      "2     62\n",
      "3    154\n",
      "Name: count, dtype: int64\n"
     ]
    },
    {
     "data": {
      "image/png": "[encoded data removed]",
      "text/plain": [
       "<Figure size 640x480 with 1 Axes>"
      ]
     },
     "metadata": {},
     "output_type": "display_data"
    }
   ],
   "source": [
    "# Survivor statistic by Passenger Class (Pclass) - Test Data\n",
    "survivor_statistics(original_dataframe = test_data, result_dataframe = submission_data, category = \"Pclass\", result_column = \"Survived\")"
   ]
  },
  {
   "cell_type": "code",
   "execution_count": 250,
   "id": "309851e8",
   "metadata": {},
   "outputs": [
    {
     "name": "stdout",
     "output_type": "stream",
     "text": [
      "Sex\n",
      "female    314\n",
      "male      577\n",
      "Name: count, dtype: int64\n",
      "Sex\n",
      "female    233\n",
      "male      109\n",
      "Name: count, dtype: int64\n",
      "Sex\n",
      "female     81\n",
      "male      468\n",
      "Name: count, dtype: int64\n"
     ]
    },
    {
     "data": {
      "image/png": "[encoded data removed]",
      "text/plain": [
       "<Figure size 640x480 with 1 Axes>"
      ]
     },
     "metadata": {},
     "output_type": "display_data"
    }
   ],
   "source": [
    "# Survivor statistic by Passenger Class (Sex) - Training Data\n",
    "survivor_statistics(train_data, train_data, 'Sex')"
   ]
  },
  {
   "cell_type": "code",
   "execution_count": 251,
   "id": "d67546ab",
   "metadata": {},
   "outputs": [
    {
     "name": "stdout",
     "output_type": "stream",
     "text": [
      "SibSp\n",
      "0    608\n",
      "1    209\n",
      "2     28\n",
      "3     16\n",
      "4     18\n",
      "5      5\n",
      "8      7\n",
      "Name: count, dtype: int64\n",
      "SibSp\n",
      "0    210\n",
      "1    112\n",
      "2     13\n",
      "3      4\n",
      "4      3\n",
      "5      0\n",
      "8      0\n",
      "Name: count, dtype: int64\n",
      "SibSp\n",
      "0    398\n",
      "1     97\n",
      "2     15\n",
      "3     12\n",
      "4     15\n",
      "5      5\n",
      "8      7\n",
      "Name: count, dtype: int64\n"
     ]
    },
    {
     "data": {
      "image/png": "[encoded data removed]",
      "text/plain": [
       "<Figure size 640x480 with 1 Axes>"
      ]
     },
     "metadata": {},
     "output_type": "display_data"
    }
   ],
   "source": [
    "# Survivor statistic by number of siblings and spouses - Training Data\n",
    "survivor_statistics(train_data, train_data, 'SibSp')\n",
    "\n"
   ]
  },
  {
   "cell_type": "code",
   "execution_count": 254,
   "id": "bc05394f",
   "metadata": {},
   "outputs": [
    {
     "name": "stdout",
     "output_type": "stream",
     "text": [
      "Sex\n",
      "female    314\n",
      "male      577\n",
      "Name: count, dtype: int64\n",
      "Sex\n",
      "female    233\n",
      "male      109\n",
      "Name: count, dtype: int64\n",
      "Sex\n",
      "female     81\n",
      "male      468\n",
      "Name: count, dtype: int64\n"
     ]
    },
    {
     "data": {
      "image/png": "[encoded data removed]",
      "text/plain": [
       "<Figure size 640x480 with 1 Axes>"
      ]
     },
     "metadata": {},
     "output_type": "display_data"
    }
   ],
   "source": [
    "# Survivor statistic by number of parents and children - Training Data\n",
    "survivor_statistics(train_data, train_data, 'Sex')\n",
    "\n",
    "# Survivor statistic by number of parents and children - Test Data\n",
    "survivor_statistics(train_data, train_data, 'Sex')"
   ]
  },
  {
   "cell_type": "code",
   "execution_count": 252,
   "id": "75c3a3d2",
   "metadata": {},
   "outputs": [
    {
     "name": "stdout",
     "output_type": "stream",
     "text": [
      "Parch\n",
      "0    678\n",
      "1    118\n",
      "2     80\n",
      "3      5\n",
      "4      4\n",
      "5      5\n",
      "6      1\n",
      "Name: count, dtype: int64\n",
      "Parch\n",
      "0    233\n",
      "1     65\n",
      "2     40\n",
      "3      3\n",
      "4      0\n",
      "5      1\n",
      "6      0\n",
      "Name: count, dtype: int64\n",
      "Parch\n",
      "0    445\n",
      "1     53\n",
      "2     40\n",
      "3      2\n",
      "4      4\n",
      "5      4\n",
      "6      1\n",
      "Name: count, dtype: int64\n"
     ]
    },
    {
     "data": {
      "image/png": "[encoded data removed]",
      "text/plain": [
       "<Figure size 640x480 with 1 Axes>"
      ]
     },
     "metadata": {},
     "output_type": "display_data"
    }
   ],
   "source": [
    "# Survivor statistic by number of parents and children - Training Data\n",
    "survivor_statistics(train_data, train_data, 'Parch')"
   ]
  }
 ],
 "metadata": {
  "kernelspec": {
   "display_name": "Python 3 (ipykernel)",
   "language": "python",
   "name": "python3"
  },
  "language_info": {
   "codemirror_mode": {
    "name": "ipython",
    "version": 3
   },
   "file_extension": ".py",
   "mimetype": "text/x-python",
   "name": "python",
   "nbconvert_exporter": "python",
   "pygments_lexer": "ipython3",
   "version": "3.11.5"
  }
 },
 "nbformat": 4,
 "nbformat_minor": 5
}
